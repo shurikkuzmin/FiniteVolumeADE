{
 "cells": [
  {
   "cell_type": "markdown",
   "metadata": {},
   "source": [
    "# Finite volume discretization of unsteady two-dimensional advection-diffusion equation"
   ]
  },
  {
   "cell_type": "markdown",
   "metadata": {},
   "source": [
    "The equation we would like to solve numerically is the following:\n",
    "$$\\rho \\frac{\\partial \\phi}{\\partial t} + \\rho u_j \\frac{\\partial \\phi}{\\partial x_j} = \\frac{\\partial}{\\partial x_j} \\biggl(\\Gamma \\frac{\\partial\\phi}{\\partial x_j}\\biggr) + S $$\n",
    "\n",
    "In two-dimensions the partial derivatives are expanded as:\n",
    "$$\\rho \\frac{\\partial \\phi}{\\partial t} + \\rho u_x \\frac{\\partial \\phi}{\\partial x} + \\rho u_y \\frac{\\partial \\phi}{\\partial y} = \\frac{\\partial}{\\partial x} \\biggl(\\Gamma \\frac{\\partial\\phi}{\\partial x}\\biggr) +\\frac{\\partial}{\\partial y} \\biggl(\\Gamma \\frac{\\partial\\phi}{\\partial y}\\biggr) + S $$\n"
   ]
  },
  {
   "cell_type": "markdown",
   "metadata": {},
   "source": [
    "In what follows the source term is taken to be zero $S=0$:\n",
    "$$\\rho \\frac{\\partial \\phi}{\\partial t} + \\rho u_x \\frac{\\partial \\phi}{\\partial x} + \\rho u_y \\frac{\\partial \\phi}{\\partial y} = \\frac{\\partial}{\\partial x} \\biggl(\\Gamma \\frac{\\partial\\phi}{\\partial x}\\biggr) +\\frac{\\partial}{\\partial y} \\biggl(\\Gamma \\frac{\\partial\\phi}{\\partial y}\\biggr) $$"
   ]
  },
  {
   "cell_type": "markdown",
   "metadata": {},
   "source": [
    "## Unsteady purely conduction equation"
   ]
  },
  {
   "cell_type": "markdown",
   "metadata": {},
   "source": [
    "We will start with unsteady purely conduction equation:\n",
    "$$\\rho \\frac{\\partial \\phi}{\\partial t} = \\frac{\\partial}{\\partial x}\\biggl(\\Gamma \\frac{\\partial \\phi}{\\partial x}\\biggr) + \\frac{\\partial}{\\partial y}\\biggl(\\Gamma \\frac{\\partial \\phi}{\\partial y}\\biggr)$$"
   ]
  },
  {
   "cell_type": "markdown",
   "metadata": {},
   "source": [
    "Let's integrate this equation over the control volume:\n",
    "$$\\rho \\int_w^e\\int_s^n \\frac{\\partial \\phi}{\\partial t} dx dy = \\int_w^e\\int_s^n \\frac{\\partial}{\\partial x} \\biggl(\\Gamma \\frac{\\partial \\phi}{\\partial x}\\biggr) dx dy + \\int_w^e\\int_s^n \\frac{\\partial}{\\partial y} \\biggl(\\Gamma \\frac{\\partial \\phi}{\\partial y}\\biggr) dx dy$$"
   ]
  },
  {
   "cell_type": "markdown",
   "metadata": {},
   "source": [
    "![alt text](integration.png \"2D control volume\")"
   ]
  },
  {
   "cell_type": "markdown",
   "metadata": {},
   "source": [
    "The integration leads to the following:\n",
    "$$\\rho \\Delta x_P \\Delta y_P \\frac{\\partial}{\\partial t} \\phi_P   = \\Delta y_P \\biggl(\\Gamma_e \\Bigl(\\frac{\\partial\\phi}{\\partial x}\\Bigr)_e-\\Gamma_w \\Bigl(\\frac{\\partial\\phi}{\\partial y}\\Bigr)_w\\biggr) + \\Delta x_P \\biggl(\\Gamma_n \\Bigl(\\frac{\\partial\\phi}{\\partial y}\\Bigr)_n-\\Gamma_s \\Bigl(\\frac{\\partial\\phi}{\\partial y}\\Bigr)_s\\biggr)$$"
   ]
  },
  {
   "cell_type": "markdown",
   "metadata": {},
   "source": [
    "Assume that the partial derivatives can be represented through forward difference:\n",
    "$$\\Bigl(\\frac{\\partial \\phi}{\\partial x}\\Bigr)_e = \\frac{\\phi_E - \\phi_P}{\\Delta x_e}$$\n",
    "$$\\Bigl(\\frac{\\partial \\phi}{\\partial x}\\Bigr)_w = \\frac{\\phi_P - \\phi_W}{\\Delta x_w}$$\n",
    "$$\\Bigl(\\frac{\\partial \\phi}{\\partial y}\\Bigr)_n = \\frac{\\phi_N - \\phi_P}{\\Delta y_n}$$\n",
    "$$\\Bigl(\\frac{\\partial \\phi}{\\partial y}\\Bigr)_s = \\frac{\\phi_P - \\phi_S}{\\Delta y_s}$$,\n",
    "where $\\Delta x_P = 0.5(\\Delta x_e + \\Delta x_w)$ and $\\Delta y_P = 0.5(\\Delta y_n + \\Delta y_s)$\n"
   ]
  },
  {
   "cell_type": "markdown",
   "metadata": {},
   "source": [
    "Thus, after substitution in the numerical equation the following is obtained:\n",
    "$$\\rho \\Delta x_P \\Delta y_P \\frac{\\partial}{\\partial t}\\phi_P = \\Delta y_P \\biggl(\\Gamma_e \\frac{\\phi_E - \\phi_P}{\\Delta x_e} - \\Gamma_w \\frac{\\phi_P-\\phi_W}{\\Delta x_w}\\biggr)+\\Delta x_P \\biggl(\\Gamma_n \\frac{\\phi_N-\\phi_P}{\\Delta y_n}-\\Gamma_s \\frac{\\phi_P - \\phi_S}{\\Delta y_s}\\biggr)$$"
   ]
  },
  {
   "cell_type": "markdown",
   "metadata": {},
   "source": [
    "Let's combine the terms accordingly:\n",
    "$$\\rho \\Delta x_P \\Delta y_P \\frac{\\partial}{\\partial t}\\phi_P = \\phi_P \\biggl(-\\Gamma_e\\frac{\\Delta y_P}{\\Delta x_e}-\\Gamma_w \\frac{\\Delta y_P}{\\Delta x_w}-\\Gamma_n \\frac{\\Delta x_P}{\\Delta y_n} - \\Gamma_s \\frac{\\Delta x_P}{\\Delta y_s}\\biggr) + \\phi_E \\Gamma_e \\frac{\\Delta y_P}{\\Delta x_e} + \\phi_W \\Gamma_w \\frac{\\Delta y_P}{\\Delta x_w} + \\phi_S \\Gamma_s \\frac{\\Delta x_P}{\\Delta y_s} + \\phi_N \\Gamma_n \\frac{\\Delta x_P}{\\Delta y_n}$$"
   ]
  },
  {
   "cell_type": "markdown",
   "metadata": {
    "collapsed": true
   },
   "source": [
    "Now the problem which we would like to solve is a slab with two constraints $\\phi(x=0,y)=1$ and $\\phi(x=L,y)=0$. As this problem is two-dimensional, we will impose two adiabatic boundary conditions on top and the bottom of the domain, i.e. $\\frac{\\partial \\phi(x,y=0)}{\\partial y}=0$ and $\\frac{\\partial \\phi(x,y=H)}{\\partial y}=0$. "
   ]
  },
  {
   "cell_type": "markdown",
   "metadata": {},
   "source": [
    "To derive boundary conditions we need to introduce the control volume near boundaries. The points are placed in the center of control volumes, so the boundary conditions are naturally involved."
   ]
  },
  {
   "cell_type": "markdown",
   "metadata": {},
   "source": [
    "![alt text](boundary_volumes.png?arg \"Boundary control volumes\")"
   ]
  },
  {
   "cell_type": "markdown",
   "metadata": {},
   "source": [
    "Now, let's try to compose the matrix assuming the following quantities: $\\rho = 1$, $\\Gamma=1$, $L=1$, $H=2$. The numerical domain for points will be taken as $0..NX+1$ and $0..NY+1$, where $NX=10$ and $NY=20$. Then we will have $\\Delta x = \\Delta y = 0.1$. Notice that points close to boundaries will have only half distance of $0.5 \\Delta x$ and $0.5 \\Delta y$."
   ]
  },
  {
   "cell_type": "markdown",
   "metadata": {},
   "source": [
    "The matrix will be is as follows:\n",
    "$$\\begin{aligned}\n",
    "&\\phi_{0,0..NY+1}=0\\\\\n",
    "&\\phi_{NX+1,0..NY+1}=1\\\\\n",
    "&\\frac{\\partial \\phi_{1..NX,0}}{\\partial y} = 0\\\\\n",
    "&\\frac{\\partial \\phi_{1..NX,NY+1}}{\\partial y} = 0\n",
    "\\end{aligned}$$"
   ]
  },
  {
   "cell_type": "markdown",
   "metadata": {},
   "source": [
    "For the bulk nodes the following equation will be fulfilled assuming $\\rho$, $\\Gamma$, $L$ and $H$ from above:\n",
    "$$\n",
    "\\begin{aligned}\n",
    "&\\Delta x \\Delta y \\frac{\\partial}{\\partial t}\\phi_{i,j} = -4 \\phi_{i,j} +  \\phi_{i-1,j} + \\phi_{i+1,j} +  \\phi_{i,j-1} + \\phi_{i,j+1} &&\\text{for }i=2..NX-1\\text{ and }j=2..NY-1\\\\\n",
    "&\\Delta x \\Delta y \\frac{\\partial}{\\partial t}\\phi_{i,1} = -3 \\phi_{i,1} + \\phi_{i-1,1} + \\phi_{i+1,1} + \\phi_{i,2} &&\\text{for }i=2..NX-1\\\\\n",
    "&\\Delta x \\Delta y \\frac{\\partial}{\\partial t}\\phi_{i,NY} = -3 \\phi_{i,NY} + \\phi_{i-1,NY} + \\phi_{i+1,NY} +  \\phi_{i,NY-1} &&\\text{for }i=2..NX-1\\\\\n",
    "&\\Delta x \\Delta y \\frac{\\partial}{\\partial t}\\phi_{1,j} = -5 \\phi_{1,j} + 2\\phi_{0,j} + \\phi_{2,j} +  \\phi_{1,j-1}+\\phi_{1,j+1} &&\\text{for }j=2..NY-1\\\\\n",
    "&\\Delta x \\Delta y \\frac{\\partial}{\\partial t}\\phi_{NX,j} = -5 \\phi_{NX,j} + \\phi_{NX-1,j} + 2\\phi_{NX+1,j} +  \\phi_{NX,j-1}+\\phi_{NX,j+1} &&\\text{for }j=2..NY-1\\\\\n",
    "\\end{aligned}$$"
   ]
  },
  {
   "cell_type": "markdown",
   "metadata": {},
   "source": [
    "The corner BCs are indicated below:\n",
    "$$\n",
    "\\begin{aligned}\n",
    "&\\Delta x \\Delta y \\frac{\\partial}{\\partial t}\\phi_{1,1} = -4 \\phi_{1,1} +  2 \\phi_{0,1} + \\phi_{2,1} +  \\phi_{1,2} \\\\\n",
    "&\\Delta x \\Delta y \\frac{\\partial}{\\partial t}\\phi_{1,NY} = -4 \\phi_{1,NY} + 2\\phi_{0,NY} + \\phi_{1,NY-1} + \\phi_{2,NY} \\\\\n",
    "&\\Delta x \\Delta y \\frac{\\partial}{\\partial t}\\phi_{NX,1} = -4 \\phi_{NX,1} + 2\\phi_{NX+1,1} + \\phi_{NX-1,1} +  \\phi_{NX,2} \\\\\n",
    "&\\Delta x \\Delta y \\frac{\\partial}{\\partial t}\\phi_{NX,NY} = -4 \\phi_{NX,NY} + 2\\phi_{NX+1,NY} + \\phi_{NX-1,NY} +  \\phi_{NX,NY-1}\\\\\n",
    "\\end{aligned}\n",
    "$$"
   ]
  },
  {
   "cell_type": "markdown",
   "metadata": {},
   "source": [
    "Though the system looks quite simple, the connection between coefficients between rows and columns doesn't give an opportunity to easily write the matrix. Instead, we will start numerically allocate the matrix:"
   ]
  },
  {
   "cell_type": "code",
   "execution_count": 45,
   "metadata": {
    "collapsed": false
   },
   "outputs": [
    {
     "name": "stdout",
     "output_type": "stream",
     "text": [
      "Populating the interactive namespace from numpy and matplotlib\n"
     ]
    },
    {
     "name": "stderr",
     "output_type": "stream",
     "text": [
      "/usr/local/lib/python2.7/site-packages/IPython/core/magics/pylab.py:161: UserWarning: pylab import has clobbered these variables: ['f', 'mat', 'pylab', 'display']\n",
      "`%matplotlib` prevents importing * from pylab and numpy\n",
      "  \"\\n`%matplotlib` prevents importing * from pylab and numpy\"\n"
     ]
    }
   ],
   "source": [
    "import numpy\n",
    "import pylab\n",
    "%pylab inline"
   ]
  },
  {
   "cell_type": "code",
   "execution_count": 96,
   "metadata": {
    "collapsed": false
   },
   "outputs": [
    {
     "name": "stdout",
     "output_type": "stream",
     "text": [
      "('DeltaX = ', 0.01, ' DeltaY = ', 0.1)\n"
     ]
    }
   ],
   "source": [
    "NX=100\n",
    "NY=20\n",
    "LX = 1.0\n",
    "LY = 2.0\n",
    "deltax = LX/NX\n",
    "deltay = LY/NY\n",
    "rhs = numpy.zeros(((NY+2)*(NX+2),))\n",
    "mat = numpy.zeros(((NX+2)*(NY+2),(NX+2)*(NY+2)))\n",
    "\n",
    "xfv = numpy.zeros((NX+2,))\n",
    "xfv[NX+1] = LX\n",
    "xfv[1:NX+1] = numpy.linspace(0.5*deltax,LX-0.5*deltax,NX)\n",
    "yfv = numpy.zeros((NY+2,))\n",
    "yfv[NY+1] = LY\n",
    "yfv[1:NY+1] = numpy.linspace(0.5*deltay,LY-0.5*deltay,NY)\n",
    "\n",
    "print(\"DeltaX = \", deltax, \" DeltaY = \", deltay)"
   ]
  },
  {
   "cell_type": "markdown",
   "metadata": {},
   "source": [
    "Notice that boundary conditions will enter as follows:"
   ]
  },
  {
   "cell_type": "code",
   "execution_count": 97,
   "metadata": {
    "collapsed": false
   },
   "outputs": [],
   "source": [
    "def convert(indX,indY):\n",
    "    return ((indY+NY+2)%(NY+2))*(NX+2)+indX\n",
    "\n",
    "for j in range(NY+2):\n",
    "    rhs[convert(0,j)] = 1\n",
    "    rhs[convert(NX+1,j)] = 0\n",
    "    mat[convert(0,j),convert(0,j)] = 1\n",
    "    mat[convert(NX+1,j),convert(NX+1,j)] = 1\n",
    "    \n",
    "for i in range(1,NX+1):\n",
    "    mat[convert(i,0),convert(i,0)]=1\n",
    "    mat[convert(i,0),convert(i,1)]=-1\n",
    "    mat[convert(i,NY+1),convert(i,NY+1)]=1\n",
    "    mat[convert(i,NY+1),convert(i,NY)]=-1"
   ]
  },
  {
   "cell_type": "markdown",
   "metadata": {},
   "source": [
    "Let's put other conditions into the matrix:"
   ]
  },
  {
   "cell_type": "code",
   "execution_count": 98,
   "metadata": {
    "collapsed": false
   },
   "outputs": [],
   "source": [
    "for i in range(2,NX):\n",
    "    mat[convert(i,1),convert(i,1)] = -3\n",
    "    mat[convert(i,1),convert(i-1,1)] = 1\n",
    "    mat[convert(i,1),convert(i+1,1)] = 1\n",
    "    mat[convert(i,1),convert(i,2)] = 1\n",
    "    \n",
    "    mat[convert(i,NY),convert(i,NY)] = -3\n",
    "    mat[convert(i,NY),convert(i-1,NY)] = 1\n",
    "    mat[convert(i,NY),convert(i+1,NY)] = 1\n",
    "    mat[convert(i,NY),convert(i,NY-1)] = 1\n",
    "    \n",
    "    for j in range(2,NY):\n",
    "        mat[convert(i,j),convert(i,j)] = -4\n",
    "        mat[convert(i,j),convert(i,j+1)] = 1\n",
    "        mat[convert(i,j),convert(i,j-1)] = 1\n",
    "        mat[convert(i,j),convert(i-1,j)] = 1\n",
    "        mat[convert(i,j),convert(i+1,j)] = 1\n",
    "        \n",
    "        if i == 2:\n",
    "            mat[convert(1,j),convert(1,j)] = -5\n",
    "            mat[convert(1,j),convert(0,j)] = 2\n",
    "            mat[convert(1,j),convert(2,j)] = 1\n",
    "            mat[convert(1,j),convert(1,j-1)] = 1\n",
    "            mat[convert(1,j),convert(1,j+1)] = 1\n",
    "            \n",
    "            mat[convert(NX,j),convert(NX,j)] = -5\n",
    "            mat[convert(NX,j),convert(NX+1,j)] = 2\n",
    "            mat[convert(NX,j),convert(NX-1,j)] = 1\n",
    "            mat[convert(NX,j),convert(NX,j-1)] = 1\n",
    "            mat[convert(NX,j),convert(NX,j+1)] = 1\n",
    "            \n",
    "# Corners            \n",
    "mat[convert(1,1),convert(1,1)] = -4\n",
    "mat[convert(1,1),convert(0,1)] = 2\n",
    "mat[convert(1,1),convert(2,1)] = 1\n",
    "mat[convert(1,1),convert(1,2)] = 1\n",
    "\n",
    "mat[convert(1,NY),convert(1,NY)] = -4\n",
    "mat[convert(1,NY),convert(0,NY)] = 2\n",
    "mat[convert(1,NY),convert(1,NY-1)] = 1\n",
    "mat[convert(1,NY),convert(2,NY)] = 1\n",
    "\n",
    "mat[convert(NX,1),convert(NX,1)] = -4\n",
    "mat[convert(NX,1),convert(NX+1,1)] = 2\n",
    "mat[convert(NX,1),convert(NX-1,1)] = 1\n",
    "mat[convert(NX,1),convert(NX,2)] = 1\n",
    "\n",
    "mat[convert(NX,NY),convert(NX,NY)] = -4\n",
    "mat[convert(NX,NY),convert(NX+1,NY)] = 2\n",
    "mat[convert(NX,NY),convert(NX-1,NY)] = 1\n",
    "mat[convert(NX,NY),convert(NX,NY-1)] = 1"
   ]
  },
  {
   "cell_type": "markdown",
   "metadata": {},
   "source": [
    "Withouth discretization of time (basically assuming the steady-state condition), let's try to see if we can obtain the linear profile."
   ]
  },
  {
   "cell_type": "code",
   "execution_count": 99,
   "metadata": {
    "collapsed": false
   },
   "outputs": [],
   "source": [
    "phi = numpy.linalg.solve(mat,rhs)\n",
    "phi_mat=phi.reshape((NY+2,NX+2))"
   ]
  },
  {
   "cell_type": "code",
   "execution_count": 100,
   "metadata": {
    "collapsed": false
   },
   "outputs": [
    {
     "data": {
      "text/plain": [
       "<matplotlib.image.AxesImage at 0x10df5ac90>"
      ]
     },
     "execution_count": 100,
     "metadata": {},
     "output_type": "execute_result"
    },
    {
     "data": {
      "image/png": "[encoded data removed]",
      "text/plain": [
       "<matplotlib.figure.Figure at 0x10d6aaa10>"
      ]
     },
     "metadata": {},
     "output_type": "display_data"
    }
   ],
   "source": [
    "pylab.imshow(phi_mat)"
   ]
  },
  {
   "cell_type": "code",
   "execution_count": 51,
   "metadata": {
    "collapsed": false
   },
   "outputs": [
    {
     "data": {
      "text/plain": [
       "[<matplotlib.lines.Line2D at 0x10d432e50>]"
      ]
     },
     "execution_count": 51,
     "metadata": {},
     "output_type": "execute_result"
    },
    {
     "data": {
      "image/png": "[encoded data removed]",
      "text/plain": [
       "<matplotlib.figure.Figure at 0x10d919490>"
      ]
     },
     "metadata": {},
     "output_type": "display_data"
    }
   ],
   "source": [
    "pylab.plot(xfv,phi_mat[10,:])"
   ]
  },
  {
   "cell_type": "markdown",
   "metadata": {
    "collapsed": true
   },
   "source": [
    "Now let's integrate over the time. The general time integration is as follows:\n",
    "$$\\int_t^{t+\\Delta t}{\\phi_P dt} = (f \\phi_P^{N+1} + (1-f)\\phi_P^N)\\Delta t$$ \n",
    "where $f$ is the implicitness parameter from 0 to 1, $\\phi_P^{N+1}$ is the value at time $t+\\Delta t$ and $\\phi_P^N$ is the value at time $t$.\n",
    "\n",
    "Two most popular discretizations are implicit discretization ($f=1$) and Crank-Nicolson discretization ($f=0.5$).\n",
    "\n",
    "So the equations containing temporal parts are as follows (here we indicate only bulk equation to save some space, but everything else is similar):\n",
    "$$\n",
    "\\Delta x \\Delta y \\frac{ \\phi_{i,j}^{N+1}-\\phi_{i,j}^N}{\\Delta t} = f(-4 \\phi_{i,j}^{N+1} +  \\phi_{i-1,j}^{N+1} +  \\phi_{i+1,j}^{N+1} +  \\phi_{i,j-1}^{N+1} +  \\phi_{i,j+1}^{N+1})+(1-f)(-4 \\phi_{i,j}^N +  \\phi_{i-1,j}^N +  \\phi_{i+1,j}^N +  \\phi_{i,j-1}^N +  \\phi_{i,j+1}^N) \\text{for }i=2..NX-1\\text{ and }j=2..NY-1\n",
    "$$"
   ]
  },
  {
   "cell_type": "markdown",
   "metadata": {
    "collapsed": true
   },
   "source": [
    "So we need to reconstruct the matrix and its BCs:"
   ]
  },
  {
   "cell_type": "code",
   "execution_count": 101,
   "metadata": {
    "collapsed": false
   },
   "outputs": [],
   "source": [
    "# Parameters related to the time-stepping\n",
    "f = 1.0\n",
    "deltat = 0.01\n",
    "\n",
    "def updateMatrix(mat,rhs,phi_old):\n",
    "\n",
    "    for j in range(NY+2):\n",
    "        rhs[convert(0,j)] = 1\n",
    "        rhs[convert(NX+1,j)] = 0\n",
    "        mat[convert(0,j),convert(0,j)] = 1\n",
    "        mat[convert(NX+1,j),convert(NX+1,j)] = 1\n",
    "\n",
    "    for i in range(1,NX+1):\n",
    "        mat[convert(i,0),convert(i,0)]=1\n",
    "        mat[convert(i,0),convert(i,1)]=-1\n",
    "        mat[convert(i,NY+1),convert(i,NY+1)]=1\n",
    "        mat[convert(i,NY+1),convert(i,NY)]=-1\n",
    "    \n",
    "        for j in range(1,NY+1):\n",
    "            mat[convert(i,j),convert(i,j)] = deltax*deltay/deltat + 4*f\n",
    "            mat[convert(i,j),convert(i,j+1)] = -f\n",
    "            mat[convert(i,j),convert(i,j-1)] = -f\n",
    "            mat[convert(i,j),convert(i-1,j)] = -f\n",
    "            mat[convert(i,j),convert(i+1,j)] = -f\n",
    "            rhs[convert(i,j)] = deltax*deltay/deltat*phi_old[convert(i,j)] + (1-f)*(-4*phi_old[convert(i,j)]+phi_old[convert(i,j+1)] \n",
    "                                                                                    +phi_old[convert(i,j-1)]+phi_old[convert(i-1,j)]\n",
    "                                                                                    +phi_old[convert(i+1,j)])\n",
    "            #if i == 2:\n",
    "            #    mat[convert(1,j),convert(1,j)] = deltax*deltay/deltat+5*f\n",
    "            #    mat[convert(1,j),convert(0,j)] = -2*f\n",
    "            #    mat[convert(1,j),convert(2,j)] = -f\n",
    "            #    mat[convert(1,j),convert(1,j-1)] = -f\n",
    "            #    mat[convert(1,j),convert(1,j+1)] = -f\n",
    "            #    rhs[convert(1,j)] = deltax*deltay/deltat*phi_old[convert(1,j)] + (1-f)*(-5*phi_old[convert(1,j)]\n",
    "            #                                                                            +2*phi_old[convert(0,j)] \n",
    "            #                                                                            +phi_old[convert(2,j)]\n",
    "            #                                                                            +phi_old[convert(1,j-1)]\n",
    "            #                                                                            +phi_old[convert(1,j+1)])\n",
    "                \n",
    "\n",
    "            #    mat[convert(NX,j),convert(NX,j)] = deltax*deltay/deltat+5*f\n",
    "            #    mat[convert(NX,j),convert(NX+1,j)] = -2*f\n",
    "            #    mat[convert(NX,j),convert(NX-1,j)] = -f\n",
    "            #    mat[convert(NX,j),convert(NX,j-1)] = -f\n",
    "            #    mat[convert(NX,j),convert(NX,j+1)] = -f\n",
    "            #    rhs[convert(NX,j)] = deltax*deltay/deltat*phi_old[convert(NX,j)] + (1-f)*(-5*phi_old[convert(NX,j)]\n",
    "            #                                                                              +2*phi_old[convert(NX+1,j)] \n",
    "            #                                                                              +phi_old[convert(NX-1,j)]\n",
    "            #                                                                              +phi_old[convert(NX,j-1)]\n",
    "            #                                                                              +phi_old[convert(NX,j+1)])\n",
    "            \n",
    "    # Corners            \n",
    "    #mat[convert(1,1),convert(1,1)] = deltax*deltay/deltat+4*f\n",
    "    #mat[convert(1,1),convert(0,1)] = -2*f\n",
    "    #mat[convert(1,1),convert(2,1)] = -f\n",
    "    #mat[convert(1,1),convert(1,2)] = -f\n",
    "    #rhs[convert(1,1)] = deltax*deltay/deltat*phi_old[convert(1,1)] + (1-f)*(-4*phi_old[convert(1,1)]\n",
    "    #                                                                        +2*phi_old[convert(0,1)] \n",
    "    #                                                                        +phi_old[convert(2,1)]\n",
    "    #                                                                        +phi_old[convert(1,2)]) \n",
    "    \n",
    "    #mat[convert(1,NY),convert(1,NY)] = deltax*deltay/deltat+4*f\n",
    "    #mat[convert(1,NY),convert(0,NY)] = -2*f\n",
    "    #mat[convert(1,NY),convert(1,NY-1)] = -f\n",
    "    #mat[convert(1,NY),convert(2,NY)] = -f\n",
    "    #rhs[convert(1,NY)] = deltax*deltay/deltat*phi_old[convert(1,NY)] + (1-f)*(-4*phi_old[convert(1,NY)]\n",
    "    #                                                                          +2*phi_old[convert(0,NY)] \n",
    "    #                                                                          +phi_old[convert(1,NY-1)]\n",
    "    #                                                                          +phi_old[convert(2,NY)]) \n",
    "\n",
    "    \n",
    "    #mat[convert(NX,1),convert(NX,1)] = deltax*deltay/deltat+4*f\n",
    "    #mat[convert(NX,1),convert(NX+1,1)] = -2*f\n",
    "    #mat[convert(NX,1),convert(NX-1,1)] = -f\n",
    "    #mat[convert(NX,1),convert(NX,2)] = -f\n",
    "    #rhs[convert(NX,1)] = deltax*deltay/deltat*phi_old[convert(NX,1)] + (1-f)*(-4*phi_old[convert(NX,1)]\n",
    "    #                                                                          +2*phi_old[convert(NX+1,1)] \n",
    "    #                                                                          +phi_old[convert(NX-1,1)]\n",
    "    #                                                                          +phi_old[convert(NX,2)]) \n",
    "\n",
    "    \n",
    "    #mat[convert(NX,NY),convert(NX,NY)] = deltax*deltay/deltat+4*f\n",
    "    #mat[convert(NX,NY),convert(NX+1,NY)] = -2*f\n",
    "    #mat[convert(NX,NY),convert(NX-1,NY)] = -f\n",
    "    #mat[convert(NX,NY),convert(NX,NY-1)] = -f\n",
    "    #rhs[convert(NX,NY)] = deltax*deltay/deltat*phi_old[convert(NX,NY)] + (1-f)*(-4*phi_old[convert(NX,NY)]\n",
    "    #                                                                            +2*phi_old[convert(NX+1,NY)] \n",
    "    #                                                                            +phi_old[convert(NX-1,NY)]\n",
    "    #                                                                            +phi_old[convert(NX,NY-1)]) \n",
    "    print(\"RHS=\",rhs)\n",
    "           "
   ]
  },
  {
   "cell_type": "markdown",
   "metadata": {},
   "source": [
    "Let's find the analytical solution for the problem:\n",
    "$$\n",
    "0.01 \\partial_t \\phi = \\partial_x^2 \\phi, \\text{ with }\\phi(x,t=0)=0, \\phi(x=0) = 1, \\phi(x=1)=0\n",
    "$$\n",
    "\n",
    "We actually know the solution for the following equation:\n",
    "$$\n",
    "\\partial_t w = \\alpha \\partial_x^2 w, \\text{ with } w(x,t=0)=f(x), w(x=0,t)=0, w(x=l,t)=0\n",
    "$$\n",
    "The solution is the following:\n",
    "$$\n",
    "\\begin{aligned}\n",
    "&w(x,t)=\\sum_{k=1}^{\\infty}{\\beta_k \\sin(\\frac{k \\pi}{l} x)\\exp\\bigl(-\\alpha \\frac{\\pi^2 k^2 t}{l^2}\\bigr)}\\\\\n",
    "&\\beta_k = \\frac{2}{l}\\int_0^l{f(x) \\sin(\\frac{k \\pi}{l} x) dx}\n",
    "\\end{aligned}\n",
    "$$\n",
    "Let's separate the solution for $\\phi$ into homogenous and particular parts:\n",
    "$$\n",
    "\\phi = 1-x + \\phi_h,\n",
    "$$\n",
    "where $\\phi_h(x=0,t) = 0$, $\\phi_h(x=1,t)=0$, $\\phi_h(x,t=0)=x-1$.\n",
    "\n",
    "Transfering this equation we see that $f(x)=x-1$, $l = 1$, $\\alpha = 100$. The solution for homogenuous part is the following:\n",
    "$$\n",
    "\\begin{aligned}\n",
    "&\\phi_h(x,t)=\\sum_{k=1}^{\\infty}{\\beta_k \\sin(k \\pi x)\\exp\\bigl(-\\alpha \\pi^2 k^2 t\\bigr)}\\\\\n",
    "&\\beta_k = 2\\int_0^1{(x-1) \\sin(k \\pi x) dx}=-\\frac{2}{k\\pi}\n",
    "\\end{aligned}\n",
    "$$\n",
    "Then the homogenuous part is the following:\n",
    "$$\n",
    "\\phi_h(x,t) = -\\sum_{k=1}^{\\infty}{\\frac{2}{k\\pi}\\sin(k \\pi x)\\exp\\bigl(-\\alpha \\pi^2 k^2 t\\bigr)}\n",
    "$$\n",
    "Then the analytical solution is the following:\n",
    "$$\n",
    "\\phi(x,t)=1-x-\\sum_{k=1}^{\\infty}{\\frac{2}{k\\pi}\\sin(k \\pi x)\\exp\\bigl(-\\alpha \\pi^2 k^2 t\\bigr)}\n",
    "$$"
   ]
  },
  {
   "cell_type": "code",
   "execution_count": 105,
   "metadata": {
    "collapsed": false
   },
   "outputs": [],
   "source": [
    "def analytical(time):\n",
    "    numTerms = 200\n",
    "    numX = 101\n",
    "\n",
    "    x=numpy.linspace(0,LX,numX)\n",
    "    sol = LX - x\n",
    "    alpha = 1\n",
    "    for term in range(1,numTerms+1):\n",
    "        sol = sol - 2.0/(term*numpy.pi)*numpy.sin(term * numpy.pi*x)*numpy.exp(-alpha*(numpy.pi**2)*(term**2)*time)\n",
    "    return x,sol\n"
   ]
  },
  {
   "cell_type": "code",
   "execution_count": 103,
   "metadata": {
    "collapsed": false
   },
   "outputs": [
    {
     "name": "stdout",
     "output_type": "stream",
     "text": [
      "('Number of iterations', 2)\n"
     ]
    }
   ],
   "source": [
    "import time\n",
    "from IPython import display\n",
    "totalTime = 0.02\n",
    "numIterations = int(ceil(totalTime/deltat))\n",
    "print(\"Number of iterations\",numIterations)"
   ]
  },
  {
   "cell_type": "code",
   "execution_count": 106,
   "metadata": {
    "collapsed": false
   },
   "outputs": [
    {
     "name": "stdout",
     "output_type": "stream",
     "text": [
      "('RHS=', array([ 1.,  0.,  0., ...,  0.,  0.,  0.]))\n",
      "('RHS=', array([ 1.,  0.,  0., ...,  0.,  0.,  0.]))\n",
      "('Iteration = ', 1)\n",
      "('RHS=', array([ 1.,  0.,  0., ...,  0.,  0.,  0.]))\n",
      "('RHS=', array([ 1.,  0.,  0., ...,  0.,  0.,  0.]))\n",
      "('Iteration = ', 2)\n"
     ]
    },
    {
     "data": {
      "image/png": "[encoded data removed]",
      "text/plain": [
       "<matplotlib.figure.Figure at 0x10df07850>"
      ]
     },
     "metadata": {},
     "output_type": "display_data"
    },
    {
     "data": {
      "image/png": "[encoded data removed]",
      "text/plain": [
       "<matplotlib.figure.Figure at 0x10e0c0a50>"
      ]
     },
     "metadata": {},
     "output_type": "display_data"
    },
    {
     "data": {
      "image/png": "[encoded data removed]",
      "text/plain": [
       "<matplotlib.figure.Figure at 0x10dfd90d0>"
      ]
     },
     "metadata": {},
     "output_type": "display_data"
    }
   ],
   "source": [
    "phi=numpy.zeros(((NY+2)*(NX+2),))\n",
    "phi[::NX+2]=1\n",
    "pylab.figure(99)\n",
    "pylab.plot(phi.reshape((NY+2,NX+2))[10,:])\n",
    "for iteration in range(1,numIterations+1):\n",
    "    phi_old = phi\n",
    "    rhs = numpy.zeros(((NY+2)*(NX+2),))\n",
    "    mat = numpy.zeros(((NX+2)*(NY+2),(NX+2)*(NY+2)))\n",
    "    updateMatrix(mat,rhs,phi_old)\n",
    "    print(\"RHS=\",rhs)\n",
    "    phi = numpy.linalg.solve(mat,rhs)\n",
    "    \n",
    "    phi_mat=phi.reshape((NY+2,NX+2))\n",
    "    pylab.figure(1)\n",
    "    pylab.imshow(phi_mat)\n",
    "    print(\"Iteration = \",iteration)\n",
    "    #display.clear_output(wait=True)\n",
    "    #display.display(pylab.gcf())\n",
    "    \n",
    "    pylab.figure(2)\n",
    "    xan,an = analytical(iteration*deltat)\n",
    "    pylab.plot(xan,an)\n",
    "    pylab.plot(xfv,phi_mat[10,:],\"+\")\n",
    "    time.sleep(0.1)"
   ]
  },
  {
   "cell_type": "code",
   "execution_count": 92,
   "metadata": {
    "collapsed": false
   },
   "outputs": [
    {
     "data": {
      "text/plain": [
       "array([  1.00000000e+00,   5.52786390e-01,   2.76393160e-01,\n",
       "         1.30495060e-01,   5.93639423e-02,   2.63105605e-02,\n",
       "         1.14371987e-02,   4.89562084e-03,   2.06396005e-03,\n",
       "         8.44562626e-04,   3.00341571e-04,   0.00000000e+00])"
      ]
     },
     "execution_count": 92,
     "metadata": {},
     "output_type": "execute_result"
    }
   ],
   "source": [
    "phi_mat[10,:]"
   ]
  },
  {
   "cell_type": "code",
   "execution_count": null,
   "metadata": {
    "collapsed": true
   },
   "outputs": [],
   "source": []
  }
 ],
 "metadata": {
  "kernelspec": {
   "display_name": "Python 2",
   "language": "python",
   "name": "python2"
  },
  "language_info": {
   "codemirror_mode": {
    "name": "ipython",
    "version": 2
   },
   "file_extension": ".py",
   "mimetype": "text/x-python",
   "name": "python",
   "nbconvert_exporter": "python",
   "pygments_lexer": "ipython2",
   "version": "2.7.12"
  }
 },
 "nbformat": 4,
 "nbformat_minor": 2
}
