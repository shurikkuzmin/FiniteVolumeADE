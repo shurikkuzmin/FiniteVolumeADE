{
 "cells": [
  {
   "cell_type": "markdown",
   "metadata": {},
   "source": [
    "# Finite volume discretization of unsteady two-dimensional advection-diffusion equation"
   ]
  },
  {
   "cell_type": "markdown",
   "metadata": {},
   "source": [
    "The equation we would like to solve numerically is the following:\n",
    "$$\\rho \\frac{\\partial \\phi}{\\partial t} + \\rho u_j \\frac{\\partial \\phi}{\\partial x_j} = \\frac{\\partial}{\\partial x_j} \\biggl(\\Gamma \\frac{\\partial\\phi}{\\partial x_j}\\biggr) + S $$\n",
    "\n",
    "In two-dimensions the partial derivatives are expanded as:\n",
    "$$\\rho \\frac{\\partial \\phi}{\\partial t} + \\rho u_x \\frac{\\partial \\phi}{\\partial x} + \\rho u_y \\frac{\\partial \\phi}{\\partial y} = \\frac{\\partial}{\\partial x} \\biggl(\\Gamma \\frac{\\partial\\phi}{\\partial x}\\biggr) +\\frac{\\partial}{\\partial y} \\biggl(\\Gamma \\frac{\\partial\\phi}{\\partial y}\\biggr) + S $$\n"
   ]
  },
  {
   "cell_type": "markdown",
   "metadata": {},
   "source": [
    "In what follows the source term is taken to be zero $S=0$:\n",
    "$$\\rho \\frac{\\partial \\phi}{\\partial t} + \\rho u_x \\frac{\\partial \\phi}{\\partial x} + \\rho u_y \\frac{\\partial \\phi}{\\partial y} = \\frac{\\partial}{\\partial x} \\biggl(\\Gamma \\frac{\\partial\\phi}{\\partial x}\\biggr) +\\frac{\\partial}{\\partial y} \\biggl(\\Gamma \\frac{\\partial\\phi}{\\partial y}\\biggr) $$"
   ]
  },
  {
   "cell_type": "markdown",
   "metadata": {},
   "source": [
    "## Unsteady purely conduction equation"
   ]
  },
  {
   "cell_type": "markdown",
   "metadata": {},
   "source": [
    "We will start with unsteady purely conduction equation:\n",
    "$$\\rho \\frac{\\partial \\phi}{\\partial t} = \\frac{\\partial}{\\partial x}\\biggl(\\Gamma \\frac{\\partial \\phi}{\\partial x}\\biggr) + \\frac{\\partial}{\\partial y}\\biggl(\\Gamma \\frac{\\partial \\phi}{\\partial y}\\biggr)$$"
   ]
  },
  {
   "cell_type": "markdown",
   "metadata": {},
   "source": [
    "Let's integrate this equation over the control volume:\n",
    "$$\\rho \\int_w^e\\int_s^n \\frac{\\partial \\phi}{\\partial t} dx dy = \\int_w^e\\int_s^n \\frac{\\partial}{\\partial x} \\biggl(\\Gamma \\frac{\\partial \\phi}{\\partial x}\\biggr) dx dy + \\int_w^e\\int_s^n \\frac{\\partial}{\\partial y} \\biggl(\\Gamma \\frac{\\partial \\phi}{\\partial y}\\biggr) dx dy$$"
   ]
  },
  {
   "cell_type": "markdown",
   "metadata": {},
   "source": [
    "![alt text](integration.png \"2D control volume\")"
   ]
  },
  {
   "cell_type": "markdown",
   "metadata": {},
   "source": [
    "The integration leads to the following:\n",
    "$$\\rho \\Delta x_P \\Delta y_P \\frac{\\partial}{\\partial t} \\phi_P   = \\Delta y_P \\biggl(\\Gamma_e \\Bigl(\\frac{\\partial\\phi}{\\partial x}\\Bigr)_e-\\Gamma_w \\Bigl(\\frac{\\partial\\phi}{\\partial y}\\Bigr)_w\\biggr) + \\Delta x_P \\biggl(\\Gamma_n \\Bigl(\\frac{\\partial\\phi}{\\partial y}\\Bigr)_n-\\Gamma_s \\Bigl(\\frac{\\partial\\phi}{\\partial y}\\Bigr)_s\\biggr)$$"
   ]
  },
  {
   "cell_type": "markdown",
   "metadata": {},
   "source": [
    "Assume that the partial derivatives can be represented through forward difference:\n",
    "$$\\Bigl(\\frac{\\partial \\phi}{\\partial x}\\Bigr)_e = \\frac{\\phi_E - \\phi_P}{\\Delta x_e}$$\n",
    "$$\\Bigl(\\frac{\\partial \\phi}{\\partial x}\\Bigr)_w = \\frac{\\phi_P - \\phi_W}{\\Delta x_w}$$\n",
    "$$\\Bigl(\\frac{\\partial \\phi}{\\partial y}\\Bigr)_n = \\frac{\\phi_N - \\phi_P}{\\Delta y_n}$$\n",
    "$$\\Bigl(\\frac{\\partial \\phi}{\\partial y}\\Bigr)_s = \\frac{\\phi_P - \\phi_S}{\\Delta y_s}$$,\n",
    "where $\\Delta x_P = \\Delta x_e + \\Delta x_w$ and $\\Delta y_P = \\Delta y_n + \\Delta y_s$\n"
   ]
  },
  {
   "cell_type": "markdown",
   "metadata": {},
   "source": [
    "Thus, after substitution in the numerical equation the following is obtained:\n",
    "$$\\rho \\Delta x_P \\Delta y_P \\frac{\\partial}{\\partial t}\\phi_P = \\Delta y_P \\biggl(\\Gamma_e \\frac{\\phi_E - \\phi_P}{\\Delta x_e} - \\Gamma_w \\frac{\\phi_P-\\phi_W}{\\Delta x_w}\\biggr)+\\Delta x_P \\biggl(\\Gamma_n \\frac{\\phi_N-\\phi_P}{\\Delta y_n}-\\Gamma_s \\frac{\\phi_P - \\phi_S}{\\Delta y_s}\\biggr)$$"
   ]
  },
  {
   "cell_type": "markdown",
   "metadata": {},
   "source": [
    "Let's combine the terms accordingly:\n",
    "$$\\rho \\Delta x_P \\Delta y_P \\frac{\\partial}{\\partial t}\\phi_P = \\phi_P \\biggl(-\\Gamma_e\\frac{\\Delta y_P}{\\Delta x_e}-\\Gamma_w \\frac{\\Delta y_P}{\\Delta x_w}-\\Gamma_n \\frac{\\Delta x_P}{\\Delta y_n} - \\Gamma_s \\frac{\\Delta x_P}{\\Delta y_s}\\biggr) + \\phi_E \\Gamma_e \\frac{\\Delta y_P}{\\Delta x_e} + \\phi_W \\Gamma_w \\frac{\\Delta y_P}{\\Delta x_w} + \\phi_S \\Gamma_s \\frac{\\Delta x_P}{\\Delta y_s} + \\phi_N \\Gamma_n \\frac{\\Delta x_P}{\\Delta y_n}$$"
   ]
  },
  {
   "cell_type": "markdown",
   "metadata": {
    "collapsed": true
   },
   "source": [
    "Now the problem which we would like to solve is a slab with two constraints $\\phi(x=0,y)=1$ and $\\phi(x=L,y)=0$. As this problem is two-dimensional, we will impose two adiabatic boundary conditions on top and the bottom of the domain, i.e. $\\frac{\\partial \\phi(x,y=0)}{\\partial y}=0$ and $\\frac{\\partial \\phi(x,y=H)}{\\partial y}=0$. "
   ]
  },
  {
   "cell_type": "markdown",
   "metadata": {},
   "source": [
    "To derive boundary conditions we need to introduce the control volume near boundaries. The points are placed in the center of control volumes, so the boundary conditions are naturally involved."
   ]
  },
  {
   "cell_type": "markdown",
   "metadata": {},
   "source": [
    "![alt text](boundary_volumes.png?arg \"Boundary control volumes\")"
   ]
  },
  {
   "cell_type": "markdown",
   "metadata": {},
   "source": [
    "Now, let's try to compose the matrix assuming the following quantities: $\\rho = 1$, $\\Gamma=1$, $L=1$, $H=2$. The numerical domain for points will be taken as $0..NX+1$ and $0..NY+1$, where $NX=10$ and $NY=20$. Then we will have $\\Delta x = \\Delta y = 0.1$. Notice that points close to boundaries will have only half distance of $0.5 \\Delta x$ and $0.5 \\Delta y$."
   ]
  },
  {
   "cell_type": "markdown",
   "metadata": {},
   "source": [
    "The matrix will be is as follows:\n",
    "$$\\begin{aligned}\n",
    "&\\phi_{0,0..NY+1}=0\\\\\n",
    "&\\phi_{NX+1,0..NY+1}=1\\\\\n",
    "&\\frac{\\partial \\phi_{1..NX,0}}{\\partial y} = 0\\\\\n",
    "&\\frac{\\partial \\phi_{1..NX,NY+1}}{\\partial y} = 0\n",
    "\\end{aligned}$$"
   ]
  },
  {
   "cell_type": "markdown",
   "metadata": {},
   "source": [
    "For the bulk nodes the following equation will be fulfilled assuming $\\rho$, $\\Gamma$, $L$ and $H$ from above:\n",
    "$$\n",
    "\\begin{aligned}\n",
    "&10^{-2} \\frac{\\partial}{\\partial t}\\phi_{i,j} = -8 \\phi_{i,j} + 2 \\phi_{i-1,j} + 2 \\phi_{i+1,j} + 2 \\phi_{i,j-1} + 2 \\phi_{i,j+1} &&\\text{for }i=1..NX\\text{ and }j=2..NY-1\\\\\n",
    "&0.75\\times 10^{-2} \\frac{\\partial}{\\partial t}\\phi_{i,1} = -6 \\phi_{i,1} + 2 \\phi_{i-1,1} + 2 \\phi_{i+1,1} + 2 \\phi_{i,2} &&\\text{for }i=1..NX\\\\\n",
    "&0.75\\times 10^{-2} \\frac{\\partial}{\\partial t}\\phi_{i,NY} = -6 \\phi_{i,NY} + 2 \\phi_{i-1,NY} + 2 \\phi_{i+1,NY} + 2 \\phi_{i,NY-1} &&\\text{for }i=1..NX\\\\\n",
    "\\end{aligned}$$"
   ]
  },
  {
   "cell_type": "markdown",
   "metadata": {},
   "source": [
    "Though the system looks quite simple, the connection between coefficients between rows and columns doesn't give an opportunity to easily write the matrix. Instead, we will start numerically allocate the matrix:"
   ]
  },
  {
   "cell_type": "code",
   "execution_count": 1,
   "metadata": {
    "collapsed": true
   },
   "outputs": [],
   "source": [
    "import numpy\n",
    "import pylab"
   ]
  },
  {
   "cell_type": "code",
   "execution_count": 26,
   "metadata": {
    "collapsed": false
   },
   "outputs": [],
   "source": [
    "NX=10\n",
    "NY=20\n",
    "rhs = numpy.zeros(((NY+2)*(NX+2),))\n",
    "mat = numpy.zeros(((NX+2)*(NY+2),(NX+2)*(NY+2)))"
   ]
  },
  {
   "cell_type": "markdown",
   "metadata": {},
   "source": [
    "Notice that boundary conditions will enter as follows:"
   ]
  },
  {
   "cell_type": "code",
   "execution_count": 27,
   "metadata": {
    "collapsed": false
   },
   "outputs": [],
   "source": [
    "for j in range(NY+2):\n",
    "    ind1 = j*(NX+2)+0\n",
    "    ind2 = j*(NX+2)+NX+1\n",
    "    rhs[ind1] = 1\n",
    "    rhs[ind2] = 0\n",
    "    mat[ind1,ind1] = 1\n",
    "    mat[ind2,ind2] = 1\n",
    "    \n",
    "for i in range(1,NX+1):\n",
    "    ind1 = 0*(NX+2)+i\n",
    "    ind2 = (NY+1)*(NX+2)+i\n",
    "    mat[ind1,ind1]=1\n",
    "    mat[ind1,ind1+NX+2]=-1\n",
    "    mat[ind2,ind2]=1\n",
    "    mat[ind2,ind2-NX-2]=-1"
   ]
  },
  {
   "cell_type": "markdown",
   "metadata": {},
   "source": [
    "Let's put other conditions into the matrix:"
   ]
  },
  {
   "cell_type": "code",
   "execution_count": 4,
   "metadata": {
    "collapsed": false
   },
   "outputs": [],
   "source": [
    "for i in range(1,NX+1):\n",
    "    for j in range(2,NY):\n",
    "        ind_center = j*(NX+2)+i\n",
    "        ind_north  = ind_center+NX+2\n",
    "        ind_south  = ind_center-NX-2\n",
    "        ind_west   = ind_center-1\n",
    "        ind_east   = ind_center+1\n",
    "        mat[ind_center,ind_center] = -8\n",
    "        mat[ind_center,ind_north]  = 2\n",
    "        mat[ind_center,ind_south]  = 2\n",
    "        mat[ind_center,ind_west]   = 2\n",
    "        mat[ind_center,ind_east]   = 2\n",
    "for i in range(1,NX+1):\n",
    "    ind1_center= 1*(NX+2)+i\n",
    "    ind1_north = ind1_center+NX+2\n",
    "    ind1_west  = ind1_center-1\n",
    "    ind1_east  = ind1_center+1\n",
    "    ind2_center= NY*(NX+2)+i\n",
    "    ind2_south = ind2_center-NX-2\n",
    "    ind2_west  = ind2_center-1\n",
    "    ind2_east  = ind2_center+1\n",
    "    \n",
    "    mat[ind1_center,ind1_center]=-6\n",
    "    mat[ind1_center,ind1_north] =2\n",
    "    mat[ind1_center,ind1_west]  =2\n",
    "    mat[ind1_center,ind1_east]  =2\n",
    "    \n",
    "    mat[ind2_center,ind2_center]=-6\n",
    "    mat[ind2_center,ind2_south] =2\n",
    "    mat[ind2_center,ind2_east]  =2\n",
    "    mat[ind2_center,ind2_west]  =2"
   ]
  },
  {
   "cell_type": "markdown",
   "metadata": {},
   "source": [
    "Withouth discretization of time (basically assuming the steady-state condition), let's try to see if we can obtain the linear profile."
   ]
  },
  {
   "cell_type": "code",
   "execution_count": 5,
   "metadata": {
    "collapsed": false
   },
   "outputs": [],
   "source": [
    "phi = numpy.linalg.solve(mat,rhs)"
   ]
  },
  {
   "cell_type": "code",
   "execution_count": 6,
   "metadata": {
    "collapsed": false
   },
   "outputs": [],
   "source": [
    "phi_mat=phi.reshape((NY+2,NX+2))"
   ]
  },
  {
   "cell_type": "code",
   "execution_count": 7,
   "metadata": {
    "collapsed": false
   },
   "outputs": [
    {
     "name": "stdout",
     "output_type": "stream",
     "text": [
      "Populating the interactive namespace from numpy and matplotlib\n"
     ]
    },
    {
     "name": "stderr",
     "output_type": "stream",
     "text": [
      "/anaconda/lib/python3.6/site-packages/IPython/core/magics/pylab.py:161: UserWarning: pylab import has clobbered these variables: ['pylab', 'mat']\n",
      "`%matplotlib` prevents importing * from pylab and numpy\n",
      "  \"\\n`%matplotlib` prevents importing * from pylab and numpy\"\n"
     ]
    },
    {
     "data": {
      "text/plain": [
       "<matplotlib.image.AxesImage at 0x10e252128>"
      ]
     },
     "execution_count": 7,
     "metadata": {},
     "output_type": "execute_result"
    },
    {
     "data": {
      "image/png": "[encoded data removed]",
      "text/plain": [
       "<matplotlib.figure.Figure at 0x10aa95160>"
      ]
     },
     "metadata": {},
     "output_type": "display_data"
    }
   ],
   "source": [
    "%pylab inline\n",
    "pylab.imshow(phi_mat)"
   ]
  },
  {
   "cell_type": "code",
   "execution_count": 8,
   "metadata": {
    "collapsed": false
   },
   "outputs": [
    {
     "data": {
      "text/plain": [
       "[<matplotlib.lines.Line2D at 0x10e416ba8>]"
      ]
     },
     "execution_count": 8,
     "metadata": {},
     "output_type": "execute_result"
    },
    {
     "data": {
      "image/png": "[encoded data removed]",
      "text/plain": [
       "<matplotlib.figure.Figure at 0x10e3aa400>"
      ]
     },
     "metadata": {},
     "output_type": "display_data"
    }
   ],
   "source": [
    "pylab.plot(phi_mat[10,:])"
   ]
  },
  {
   "cell_type": "markdown",
   "metadata": {
    "collapsed": true
   },
   "source": [
    "Now let's integrate over the time. The general time integration is as follows:\n",
    "$$\\int_t^{t+\\Delta t}{\\phi_P dt} = (f \\phi_P^{N+1} + (1-f)\\phi_P^N)\\Delta t$$ \n",
    "where $f$ is the implicitness parameter from 0 to 1, $\\phi_P^{N+1}$ is the value at time $t+\\Delta t$ and $\\phi_P^N$ is the value at time $t$.\n",
    "\n",
    "Two most popular discretizations are implicit discretization ($f=1$) and Crank-Nicolson discretization ($f=0.5$).\n",
    "\n",
    "So the equations containing temporal parts are as follows:\n",
    "$$\n",
    "\\begin{aligned}\n",
    "&10^{-2} \\frac{ \\phi_{i,j}^{N+1}-\\phi_{i,j}^N}{\\Delta t} = f(-8 \\phi_{i,j}^{N+1} + 2 \\phi_{i-1,j}^{N+1} + 2 \\phi_{i+1,j}^{N+1} + 2 \\phi_{i,j-1}^{N+1} + 2 \\phi_{i,j+1}^{N+1})+(1-f)(-8 \\phi_{i,j}^N + 2 \\phi_{i-1,j}^N + 2 \\phi_{i+1,j}^N + 2 \\phi_{i,j-1}^N + 2 \\phi_{i,j+1}^N) &&\\text{for }i=1..NX\\text{ and }j=2..NY-1\\\\\n",
    "&0.75\\times 10^{-2} \\frac{\\phi_{i,1}^{N+1}-\\phi_{i,1}^N}{\\Delta t} = f (-6 \\phi^{N+1}_{i,1} + 2 \\phi^{N+1}_{i-1,1} + 2 \\phi^{N+1}_{i+1,1} + 2 \\phi^{N+1}_{i,2})+(1-f)(-6 \\phi_{i,1}^N + 2 \\phi_{i-1,1}^N + 2 \\phi_{i+1,1}^N + 2 \\phi_{i,2}^N) &&\\text{for }i=1..NX\\\\\n",
    "&0.75\\times 10^{-2} \\frac{\\phi_{i,NY}^{N+1}-\\phi_{i,NY}^N}{\\Delta t} =  f (-6 \\phi_{i,NY}^{N+1} + 2 \\phi_{i-1,NY}^{N+1} + 2 \\phi_{i+1,NY}^{N+1} + 2 \\phi_{i,NY-1}^{N+1}) +(1-f) (-6 \\phi_{i,NY}^N + 2 \\phi_{i-1,NY}^N + 2 \\phi_{i+1,NY}^N + 2 \\phi_{i,NY-1}^N) &&\\text{for }i=1..NX\\\\\n",
    "\\end{aligned}\n",
    "$$"
   ]
  },
  {
   "cell_type": "markdown",
   "metadata": {
    "collapsed": true
   },
   "source": [
    "So we need to reconstruct the matrix and its BCs:"
   ]
  },
  {
   "cell_type": "code",
   "execution_count": 33,
   "metadata": {
    "collapsed": false
   },
   "outputs": [],
   "source": [
    "# Parameters related to the time-stepping\n",
    "f = 1.0\n",
    "deltat = 0.1\n",
    "\n",
    "def updateMatrix(mat,rhs):\n",
    "    for i in range(1,NX+1):\n",
    "        for j in range(2,NY):\n",
    "            ind_center = j*(NX+2)+i\n",
    "            ind_north  = ind_center+NX+2\n",
    "            ind_south  = ind_center-NX-2\n",
    "            ind_west   = ind_center-1\n",
    "            ind_east   = ind_center+1\n",
    "            mat[ind_center,ind_center] = 0.01/deltat + 8*f\n",
    "            mat[ind_center,ind_north]  = -2*f\n",
    "            mat[ind_center,ind_south]  = -2*f\n",
    "            mat[ind_center,ind_west]   = -2*f\n",
    "            mat[ind_center,ind_east]   = -2*f\n",
    "            rhs[ind_center] = 0.01/deltat*phi_old[ind_center] + (1-f)*(-8*phi_old[ind_center] + 2*phi_old[ind_north] + 2*phi_old[ind_south]\n",
    "                                                                       +2*phi_old[ind_west] + 2*phi_old[ind_east]) \n",
    "\n",
    "    for i in range(1,NX+1):\n",
    "        ind1_center= 1*(NX+2)+i\n",
    "        ind1_north = ind1_center+NX+2\n",
    "        ind1_west  = ind1_center-1\n",
    "        ind1_east  = ind1_center+1\n",
    "        ind2_center= NY*(NX+2)+i\n",
    "        ind2_south = ind2_center-NX-2\n",
    "        ind2_west  = ind2_center-1\n",
    "        ind2_east  = ind2_center+1\n",
    "\n",
    "        mat[ind1_center,ind1_center]=0.0075/deltat + 6*f\n",
    "        mat[ind1_center,ind1_north] =-2*f\n",
    "        mat[ind1_center,ind1_west]  =-2*f\n",
    "        mat[ind1_center,ind1_east]  =-2*f\n",
    "        rhs[ind1_center] = 0.0075/deltat*phi_old[ind1_center]+(1-f)*(-6*phi_old[ind1_center]+2*phi_old[ind1_north]\n",
    "                                                                     +2*phi_old[ind1_west]+2*phi_old[ind1_east])\n",
    "\n",
    "        mat[ind2_center,ind2_center]=6*f\n",
    "        mat[ind2_center,ind2_south] =-2*f\n",
    "        mat[ind2_center,ind2_east]  =-2*f\n",
    "        mat[ind2_center,ind2_west]  =-2*f\n",
    "        rhs[ind2_center] = 0.0075/deltat*phi_old[ind2_center]+(1-f)*(-6*phi_old[ind2_center]+2*phi_old[ind2_south]\n",
    "                                                                     +2*phi_old[ind2_west]+2*phi_old[ind2_east])   \n",
    "        "
   ]
  },
  {
   "cell_type": "code",
   "execution_count": 30,
   "metadata": {
    "collapsed": false
   },
   "outputs": [
    {
     "data": {
      "text/plain": [
       "array([[ 1.,  0.,  0., ...,  0.,  0.,  0.],\n",
       "       [ 0.,  1.,  0., ...,  0.,  0.,  0.],\n",
       "       [ 0.,  0.,  1., ...,  0.,  0.,  0.],\n",
       "       ..., \n",
       "       [ 0.,  0.,  0., ...,  1.,  0.,  0.],\n",
       "       [ 0.,  0.,  0., ...,  0.,  1.,  0.],\n",
       "       [ 0.,  0.,  0., ...,  0.,  0.,  1.]])"
      ]
     },
     "execution_count": 30,
     "metadata": {},
     "output_type": "execute_result"
    }
   ],
   "source": [
    "mat"
   ]
  },
  {
   "cell_type": "code",
   "execution_count": 39,
   "metadata": {
    "collapsed": false
   },
   "outputs": [
    {
     "data": {
      "image/png": "[encoded data removed]",
      "text/plain": [
       "<matplotlib.figure.Figure at 0x10e818908>"
      ]
     },
     "metadata": {},
     "output_type": "display_data"
    },
    {
     "data": {
      "image/png": "[encoded data removed]",
      "text/plain": [
       "<matplotlib.figure.Figure at 0x10e818908>"
      ]
     },
     "metadata": {},
     "output_type": "display_data"
    }
   ],
   "source": [
    "import time\n",
    "from IPython import display\n",
    "totalTime = 1\n",
    "numIterations = int(totalTime/deltat)\n",
    "\n",
    "for iteration in range(numIterations):\n",
    "    phi_old = phi\n",
    "    updateMatrix(mat,rhs)\n",
    "    \n",
    "    phi = numpy.linalg.solve(mat,rhs)\n",
    "    phi_mat=phi.reshape((NY+2,NX+2))\n",
    "    pylab.imshow(phi_mat)\n",
    "    print(\"Iteration = \",iteration)\n",
    "    display.clear_output(wait=True)\n",
    "    display.display(pylab.gcf())\n",
    "    time.sleep(1)\n",
    "    "
   ]
  },
  {
   "cell_type": "code",
   "execution_count": null,
   "metadata": {
    "collapsed": true
   },
   "outputs": [],
   "source": []
  }
 ],
 "metadata": {
  "kernelspec": {
   "display_name": "Python 3",
   "language": "python",
   "name": "python3"
  },
  "language_info": {
   "codemirror_mode": {
    "name": "ipython",
    "version": 3
   },
   "file_extension": ".py",
   "mimetype": "text/x-python",
   "name": "python",
   "nbconvert_exporter": "python",
   "pygments_lexer": "ipython3",
   "version": "3.6.0"
  }
 },
 "nbformat": 4,
 "nbformat_minor": 2
}
