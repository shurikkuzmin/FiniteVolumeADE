{
 "cells": [
  {
   "cell_type": "markdown",
   "metadata": {},
   "source": [
    "# Finite volume discretization of unsteady two-dimensional advection-diffusion equation"
   ]
  },
  {
   "cell_type": "markdown",
   "metadata": {},
   "source": [
    "The equation we would like to solve numerically is the following:\n",
    "$$\\rho \\frac{\\partial \\phi}{\\partial t} + \\rho u_j \\frac{\\partial \\phi}{\\partial x_j} = \\frac{\\partial}{\\partial x_j} \\biggl(\\Gamma \\frac{\\partial\\phi}{\\partial x_j}\\biggr) + S $$\n",
    "\n",
    "In two-dimensions the partial derivatives are expanded as:\n",
    "$$\\rho \\frac{\\partial \\phi}{\\partial t} + \\rho u_x \\frac{\\partial \\phi}{\\partial x} + \\rho u_y \\frac{\\partial \\phi}{\\partial y} = \\frac{\\partial}{\\partial x} \\biggl(\\Gamma \\frac{\\partial\\phi}{\\partial x}\\biggr) +\\frac{\\partial}{\\partial y} \\biggl(\\Gamma \\frac{\\partial\\phi}{\\partial y}\\biggr) + S $$\n"
   ]
  },
  {
   "cell_type": "markdown",
   "metadata": {},
   "source": [
    "In what follows the source term is taken to be zero $S=0$:\n",
    "$$\\rho \\frac{\\partial \\phi}{\\partial t} + \\rho u_x \\frac{\\partial \\phi}{\\partial x} + \\rho u_y \\frac{\\partial \\phi}{\\partial y} = \\frac{\\partial}{\\partial x} \\biggl(\\Gamma \\frac{\\partial\\phi}{\\partial x}\\biggr) +\\frac{\\partial}{\\partial y} \\biggl(\\Gamma \\frac{\\partial\\phi}{\\partial y}\\biggr) $$"
   ]
  },
  {
   "cell_type": "markdown",
   "metadata": {},
   "source": [
    "## Unsteady purely conduction equation"
   ]
  },
  {
   "cell_type": "markdown",
   "metadata": {},
   "source": [
    "We will start with unsteady purely conduction equation:\n",
    "$$\\rho \\frac{\\partial \\phi}{\\partial t} = \\frac{\\partial}{\\partial x}\\biggl(\\Gamma \\frac{\\partial \\phi}{\\partial x}\\biggr) + \\frac{\\partial}{\\partial y}\\biggl(\\Gamma \\frac{\\partial \\phi}{\\partial y}\\biggr)$$"
   ]
  },
  {
   "cell_type": "markdown",
   "metadata": {},
   "source": [
    "Let's integrate this equation over the control volume:\n",
    "$$\\rho \\int_w^e\\int_s^n \\frac{\\partial \\phi}{\\partial t} dx dy = \\int_w^e\\int_s^n \\frac{\\partial}{\\partial x} \\biggl(\\Gamma \\frac{\\partial \\phi}{\\partial x}\\biggr) dx dy + \\int_w^e\\int_s^n \\frac{\\partial}{\\partial y} \\biggl(\\Gamma \\frac{\\partial \\phi}{\\partial y}\\biggr) dx dy$$"
   ]
  },
  {
   "cell_type": "markdown",
   "metadata": {},
   "source": [
    "![alt text](integration.png \"2D control volume\")"
   ]
  },
  {
   "cell_type": "markdown",
   "metadata": {},
   "source": [
    "The integration leads to the following:\n",
    "$$\\rho \\Delta x_P \\Delta y_P \\frac{\\partial}{\\partial t} \\phi_P   = \\Delta y_P \\biggl(\\Gamma_e \\Bigl(\\frac{\\partial\\phi}{\\partial x}\\Bigr)_e-\\Gamma_w \\Bigl(\\frac{\\partial\\phi}{\\partial y}\\Bigr)_w\\biggr) + \\Delta x_P \\biggl(\\Gamma_n \\Bigl(\\frac{\\partial\\phi}{\\partial y}\\Bigr)_n-\\Gamma_s \\Bigl(\\frac{\\partial\\phi}{\\partial y}\\Bigr)_s\\biggr)$$"
   ]
  },
  {
   "cell_type": "markdown",
   "metadata": {},
   "source": [
    "Assume that the partial derivatives can be represented through forward difference:\n",
    "$$\\Bigl(\\frac{\\partial \\phi}{\\partial x}\\Bigr)_e = \\frac{\\phi_E - \\phi_P}{\\Delta x_e}$$\n",
    "$$\\Bigl(\\frac{\\partial \\phi}{\\partial x}\\Bigr)_w = \\frac{\\phi_P - \\phi_W}{\\Delta x_w}$$\n",
    "$$\\Bigl(\\frac{\\partial \\phi}{\\partial y}\\Bigr)_n = \\frac{\\phi_N - \\phi_P}{\\Delta y_n}$$\n",
    "$$\\Bigl(\\frac{\\partial \\phi}{\\partial y}\\Bigr)_s = \\frac{\\phi_P - \\phi_S}{\\Delta y_s}$$,\n",
    "where $\\Delta x_P = 0.5(\\Delta x_e + \\Delta x_w)$ and $\\Delta y_P = 0.5(\\Delta y_n + \\Delta y_s)$\n"
   ]
  },
  {
   "cell_type": "markdown",
   "metadata": {},
   "source": [
    "Thus, after substitution in the numerical equation the following is obtained:\n",
    "$$\\rho \\Delta x_P \\Delta y_P \\frac{\\partial}{\\partial t}\\phi_P = \\Delta y_P \\biggl(\\Gamma_e \\frac{\\phi_E - \\phi_P}{\\Delta x_e} - \\Gamma_w \\frac{\\phi_P-\\phi_W}{\\Delta x_w}\\biggr)+\\Delta x_P \\biggl(\\Gamma_n \\frac{\\phi_N-\\phi_P}{\\Delta y_n}-\\Gamma_s \\frac{\\phi_P - \\phi_S}{\\Delta y_s}\\biggr)$$"
   ]
  },
  {
   "cell_type": "markdown",
   "metadata": {},
   "source": [
    "Let's combine the terms accordingly:\n",
    "$$\\rho \\Delta x_P \\Delta y_P \\frac{\\partial}{\\partial t}\\phi_P = \\phi_P \\biggl(-\\Gamma_e\\frac{\\Delta y_P}{\\Delta x_e}-\\Gamma_w \\frac{\\Delta y_P}{\\Delta x_w}-\\Gamma_n \\frac{\\Delta x_P}{\\Delta y_n} - \\Gamma_s \\frac{\\Delta x_P}{\\Delta y_s}\\biggr) + \\phi_E \\Gamma_e \\frac{\\Delta y_P}{\\Delta x_e} + \\phi_W \\Gamma_w \\frac{\\Delta y_P}{\\Delta x_w} + \\phi_S \\Gamma_s \\frac{\\Delta x_P}{\\Delta y_s} + \\phi_N \\Gamma_n \\frac{\\Delta x_P}{\\Delta y_n}$$"
   ]
  },
  {
   "cell_type": "markdown",
   "metadata": {
    "collapsed": true
   },
   "source": [
    "Now the problem which we would like to solve is a slab with two constraints $\\phi(x=0,y)=1$ and $\\phi(x=L,y)=0$. As this problem is two-dimensional, we will impose two adiabatic boundary conditions on top and the bottom of the domain, i.e. $\\frac{\\partial \\phi(x,y=0)}{\\partial y}=0$ and $\\frac{\\partial \\phi(x,y=H)}{\\partial y}=0$. "
   ]
  },
  {
   "cell_type": "markdown",
   "metadata": {},
   "source": [
    "To derive boundary conditions we need to introduce the control volume near boundaries. The points are placed in the center of control volumes, so the boundary conditions are naturally involved."
   ]
  },
  {
   "cell_type": "markdown",
   "metadata": {},
   "source": [
    "![alt text](boundary_volumes.png?arg \"Boundary control volumes\")"
   ]
  },
  {
   "cell_type": "markdown",
   "metadata": {},
   "source": [
    "Now, let's try to compose the matrix assuming the following quantities: $\\rho = 1$, $\\Gamma=1$, $L=1$, $H=2$. The numerical domain for points will be taken as $0..NX+1$ and $0..NY+1$, where $NX=10$ and $NY=20$. Then we will have $\\Delta x =\\frac{L}{NX} = 0.1$ and $\\Delta y = \\frac{H}{NY} = 0.1$. Notice that points close to boundaries will have only half distance of $0.5 \\Delta x$ and $0.5 \\Delta y$. So the coordinates will be distributed in the following way:"
   ]
  },
  {
   "cell_type": "markdown",
   "metadata": {},
   "source": [
    "$$\n",
    "\\begin{aligned}\n",
    "&x_0 = 0, x_1 = 0.5 \\Delta x, x_2 = 1.5 \\Delta x,\\ldots, x_N = L - 0.5 \\Delta x, x_{N+1}=L\\\\\n",
    "&y_0 = 0, y_1 = 0.5 \\Delta y, y_2 = 1.5 \\Delta y,\\ldots, y_N = H - 0.5 \\Delta y, y_{N+1}=H\n",
    "\\end{aligned}\n",
    "$$"
   ]
  },
  {
   "cell_type": "markdown",
   "metadata": {},
   "source": [
    "The matrix will be is as follows:\n",
    "$$\\begin{aligned}\n",
    "&\\phi_{0,0..NY+1}=0\\\\\n",
    "&\\phi_{NX+1,0..NY+1}=1\\\\\n",
    "&\\frac{\\partial \\phi_{1..NX,0}}{\\partial y} = 0\\\\\n",
    "&\\frac{\\partial \\phi_{1..NX,NY+1}}{\\partial y} = 0\n",
    "\\end{aligned}$$"
   ]
  },
  {
   "cell_type": "markdown",
   "metadata": {},
   "source": [
    "For the bulk nodes the following equation will be fulfilled assuming $\\rho$, $\\Gamma$, $L$ and $H$ from above:\n",
    "$$\n",
    "\\begin{aligned}\n",
    "&\\Delta x \\Delta y \\frac{\\partial}{\\partial t}\\phi_{i,j} = -\\Bigl(\\frac{\\Delta y}{x_{i+1}-x_i}+\\frac{\\Delta y}{x_i-x_{i-1}}+\\frac{\\Delta x}{y_{j+1}-y_j}+\\frac{\\Delta x}{y_j-y_{j-1}}\\Bigr) \\phi_{i,j} +  \\frac{\\Delta y}{x_i-x_{i-1}}\\phi_{i-1,j} + \\frac{\\Delta y}{x_{i+1}-x_i}\\phi_{i+1,j} +\\frac{\\Delta x}{y_j - y_{j-1}}  \\phi_{i,j-1} + \\frac{\\Delta x}{y_{j+1}-y_j}\\phi_{i,j+1}\\text{ for }i=1..NX\\text{ and }j=1..NY\\\\\n",
    "&\\phi_{i,0}=\\phi_{i,1}\\text{ for }i=1..NX\\\\\n",
    "&\\phi_{i,NY+1}=\\phi_{i,NY}\\text{ for }i=1..NX\\\\\n",
    "&\\phi_{0,j} = 1\\text{ for }j=0..NY+1\\\\\n",
    "&\\phi_{NX+1,j} = 0\\text{ for }j=0..NY+1\\\\\n",
    "\\end{aligned}$$"
   ]
  },
  {
   "cell_type": "markdown",
   "metadata": {},
   "source": [
    "Though the system looks quite simple, the connection between coefficients between rows and columns doesn't give an opportunity to easily write the matrix. Instead, we will start numerically allocate the matrix:"
   ]
  },
  {
   "cell_type": "code",
   "execution_count": 25,
   "metadata": {},
   "outputs": [
    {
     "name": "stdout",
     "output_type": "stream",
     "text": [
      "Populating the interactive namespace from numpy and matplotlib\n"
     ]
    },
    {
     "name": "stderr",
     "output_type": "stream",
     "text": [
      "/home/shurik/anaconda3/lib/python3.6/site-packages/IPython/core/magics/pylab.py:160: UserWarning: pylab import has clobbered these variables: ['display', 'f', 'pylab', 'axes', 'mat']\n",
      "`%matplotlib` prevents importing * from pylab and numpy\n",
      "  \"\\n`%matplotlib` prevents importing * from pylab and numpy\"\n"
     ]
    }
   ],
   "source": [
    "import numpy\n",
    "import pylab\n",
    "%pylab inline"
   ]
  },
  {
   "cell_type": "code",
   "execution_count": 26,
   "metadata": {},
   "outputs": [
    {
     "name": "stdout",
     "output_type": "stream",
     "text": [
      "DeltaX =  0.01  DeltaY =  0.1\n",
      "X =  [0.    0.005 0.015 0.025 0.035 0.045 0.055 0.065 0.075 0.085 0.095 0.105\n",
      " 0.115 0.125 0.135 0.145 0.155 0.165 0.175 0.185 0.195 0.205 0.215 0.225\n",
      " 0.235 0.245 0.255 0.265 0.275 0.285 0.295 0.305 0.315 0.325 0.335 0.345\n",
      " 0.355 0.365 0.375 0.385 0.395 0.405 0.415 0.425 0.435 0.445 0.455 0.465\n",
      " 0.475 0.485 0.495 0.505 0.515 0.525 0.535 0.545 0.555 0.565 0.575 0.585\n",
      " 0.595 0.605 0.615 0.625 0.635 0.645 0.655 0.665 0.675 0.685 0.695 0.705\n",
      " 0.715 0.725 0.735 0.745 0.755 0.765 0.775 0.785 0.795 0.805 0.815 0.825\n",
      " 0.835 0.845 0.855 0.865 0.875 0.885 0.895 0.905 0.915 0.925 0.935 0.945\n",
      " 0.955 0.965 0.975 0.985 0.995 1.   ]\n",
      "Y =  [0.   0.05 0.15 0.25 0.35 0.45 0.55 0.65 0.75 0.85 0.95 1.05 1.15 1.25\n",
      " 1.35 1.45 1.55 1.65 1.75 1.85 1.95 2.  ]\n"
     ]
    }
   ],
   "source": [
    "NX=100\n",
    "NY=20\n",
    "LX = 1.0\n",
    "LY = 2.0\n",
    "deltax = LX/NX\n",
    "deltay = LY/NY\n",
    "rhs = numpy.zeros(((NY+2)*(NX+2),))\n",
    "mat = numpy.zeros(((NX+2)*(NY+2),(NX+2)*(NY+2)))\n",
    "\n",
    "xfv = numpy.zeros((NX+2,))\n",
    "xfv[NX+1] = LX\n",
    "xfv[1:NX+1] = numpy.linspace(0.5*deltax,LX-0.5*deltax,NX)\n",
    "yfv = numpy.zeros((NY+2,))\n",
    "yfv[NY+1] = LY\n",
    "yfv[1:NY+1] = numpy.linspace(0.5*deltay,LY-0.5*deltay,NY)\n",
    "\n",
    "print(\"DeltaX = \", deltax, \" DeltaY = \", deltay)\n",
    "print(\"X = \", xfv)\n",
    "print(\"Y = \", yfv)"
   ]
  },
  {
   "cell_type": "markdown",
   "metadata": {},
   "source": [
    "Notice that boundary conditions will enter as follows:"
   ]
  },
  {
   "cell_type": "code",
   "execution_count": 27,
   "metadata": {},
   "outputs": [],
   "source": [
    "def convert(indX,indY):\n",
    "    return (indY*(NX+2)+indX)\n",
    "\n",
    "for j in range(NY+2):\n",
    "    rhs[convert(0,j)] = 1\n",
    "    rhs[convert(NX+1,j)] = 0\n",
    "    mat[convert(0,j),convert(0,j)] = 1\n",
    "    mat[convert(NX+1,j),convert(NX+1,j)] = 1\n",
    "    \n",
    "for i in range(1,NX+1):\n",
    "    mat[convert(i,0),convert(i,0)]=1\n",
    "    mat[convert(i,0),convert(i,1)]=-1\n",
    "    mat[convert(i,NY+1),convert(i,NY+1)]=1\n",
    "    mat[convert(i,NY+1),convert(i,NY)]=-1"
   ]
  },
  {
   "cell_type": "markdown",
   "metadata": {},
   "source": [
    "Let's put other conditions into the matrix:"
   ]
  },
  {
   "cell_type": "code",
   "execution_count": 28,
   "metadata": {},
   "outputs": [],
   "source": [
    "for i in range(1,NX+1):   \n",
    "    for j in range(1,NY+1):\n",
    "        mat[convert(i,j),convert(i,j)] = - (deltay/(xfv[i+1]-xfv[i]) + deltay/(xfv[i]-xfv[i-1]) + \n",
    "                                            deltax/(yfv[j+1]-yfv[j]) + deltax/(yfv[j]-yfv[j-1]))\n",
    "        mat[convert(i,j),convert(i,j+1)] = deltax/(yfv[j+1]-yfv[j])\n",
    "        mat[convert(i,j),convert(i,j-1)] = deltax/(yfv[j]-yfv[j-1])\n",
    "        mat[convert(i,j),convert(i-1,j)] = deltay/(xfv[i]-xfv[i-1])\n",
    "        mat[convert(i,j),convert(i+1,j)] = deltay/(xfv[i+1]-xfv[i])"
   ]
  },
  {
   "cell_type": "markdown",
   "metadata": {},
   "source": [
    "Withouth discretization of time (basically assuming the steady-state condition), let's try to see if we can obtain the linear profile."
   ]
  },
  {
   "cell_type": "code",
   "execution_count": 29,
   "metadata": {},
   "outputs": [],
   "source": [
    "phi = numpy.linalg.solve(mat,rhs)\n",
    "phi_mat=phi.reshape((NY+2,NX+2))"
   ]
  },
  {
   "cell_type": "code",
   "execution_count": 30,
   "metadata": {},
   "outputs": [
    {
     "data": {
      "text/plain": [
       "<matplotlib.image.AxesImage at 0x7f1e84148860>"
      ]
     },
     "execution_count": 30,
     "metadata": {},
     "output_type": "execute_result"
    },
    {
     "data": {
      "image/png": "[encoded data removed]",
      "text/plain": [
       "<matplotlib.figure.Figure at 0x7f1e8414d358>"
      ]
     },
     "metadata": {},
     "output_type": "display_data"
    }
   ],
   "source": [
    "pylab.imshow(phi_mat)"
   ]
  },
  {
   "cell_type": "code",
   "execution_count": 31,
   "metadata": {},
   "outputs": [
    {
     "data": {
      "text/plain": [
       "[<matplotlib.lines.Line2D at 0x7f1e87703390>]"
      ]
     },
     "execution_count": 31,
     "metadata": {},
     "output_type": "execute_result"
    },
    {
     "data": {
      "image/png": "[encoded data removed]",
      "text/plain": [
       "<matplotlib.figure.Figure at 0x7f1e84164588>"
      ]
     },
     "metadata": {},
     "output_type": "display_data"
    }
   ],
   "source": [
    "pylab.plot(xfv,phi_mat[10,:])"
   ]
  },
  {
   "cell_type": "markdown",
   "metadata": {
    "collapsed": true
   },
   "source": [
    "Now let's integrate over the time. The general time integration is as follows:\n",
    "$$\\int_t^{t+\\Delta t}{\\phi_P dt} = (f \\phi_P^{N+1} + (1-f)\\phi_P^N)\\Delta t$$ \n",
    "where $f$ is the implicitness parameter from 0 to 1, $\\phi_P^{N+1}$ is the value at time $t+\\Delta t$ and $\\phi_P^N$ is the value at time $t$.\n",
    "\n",
    "Two most popular discretizations are implicit discretization ($f=1$) and Crank-Nicolson discretization ($f=0.5$).\n",
    "\n",
    "So the equations containing temporal parts are as follows (here we indicate only bulk equation to save some space, but everything else is similar):\n",
    "$$\n",
    "\\Delta x \\Delta y \\frac{ \\phi_{i,j}^{N+1}-\\phi_{i,j}^N}{\\Delta t} = f\\Biggl(-\\Bigl(\\frac{\\Delta y}{x_{i+1}-x_i}+\\frac{\\Delta y}{x_i-x_{i-1}}+\\frac{\\Delta x}{y_{j+1}-y_j}+\\frac{\\Delta x}{y_j-y_{j-1}}\\Bigr) \\phi^{N+1}_{i,j} +  \\frac{\\Delta y}{x_i-x_{i-1}}\\phi^{N+1}_{i-1,j} + \\frac{\\Delta y}{x_{i+1}-x_i}\\phi^{N+1}_{i+1,j} +\\frac{\\Delta x}{y_j - y_{j-1}}  \\phi^{N+1}_{i,j-1} + \\frac{\\Delta x}{y_{j+1}-y_j}\\phi^{N+1}_{i,j+1}\\Biggr) + (1-f)\\Biggl(-\\Bigl(\\frac{\\Delta y}{x_{i+1}-x_i}+\\frac{\\Delta y}{x_i-x_{i-1}}+\\frac{\\Delta x}{y_{j+1}-y_j}+\\frac{\\Delta x}{y_j-y_{j-1}}\\Bigr) \\phi^N_{i,j} +  \\frac{\\Delta y}{x_i-x_{i-1}}\\phi^N_{i-1,j} + \\frac{\\Delta y}{x_{i+1}-x_i}\\phi^N_{i+1,j} +\\frac{\\Delta x}{y_j - y_{j-1}}  \\phi^N_{i,j-1} + \\frac{\\Delta x}{y_{j+1}-y_j}\\phi^N_{i,j+1}\\Biggr)\\text{ for }i=1..NX\\text{ and }j=1..NY\n",
    "$$"
   ]
  },
  {
   "cell_type": "markdown",
   "metadata": {
    "collapsed": true
   },
   "source": [
    "So we need to reconstruct the matrix and its BCs:"
   ]
  },
  {
   "cell_type": "code",
   "execution_count": 32,
   "metadata": {},
   "outputs": [
    {
     "name": "stdout",
     "output_type": "stream",
     "text": [
      "Deltax =  0.01\n",
      "Deltay =  0.1\n"
     ]
    }
   ],
   "source": [
    "print(\"Deltax = \", deltax)\n",
    "print(\"Deltay = \", deltay)"
   ]
  },
  {
   "cell_type": "code",
   "execution_count": 33,
   "metadata": {},
   "outputs": [],
   "source": [
    "# Parameters related to the time-stepping\n",
    "f = 1.0\n",
    "deltat = 0.001\n",
    "\n",
    "def updateMatrix(mat,rhs,phi_old):\n",
    "    rhs[:] = 0.0\n",
    "    mat[:,:] = 0.0\n",
    "    for j in range(NY+2):\n",
    "        rhs[convert(0,j)] = 1\n",
    "        rhs[convert(NX+1,j)] = 0\n",
    "        mat[convert(0,j),convert(0,j)] = 1\n",
    "        mat[convert(NX+1,j),convert(NX+1,j)] = 1\n",
    "\n",
    "    for i in range(1,NX+1):\n",
    "        mat[convert(i,0),convert(i,0)]=1\n",
    "        mat[convert(i,0),convert(i,1)]=-1\n",
    "        mat[convert(i,NY+1),convert(i,NY+1)]=1\n",
    "        mat[convert(i,NY+1),convert(i,NY)]=-1\n",
    "\n",
    "    for i in range(1,NX+1):  \n",
    "        for j in range(1,NY+1):\n",
    "            ce=deltay/(xfv[i+1]-xfv[i])\n",
    "            cw=deltay/(xfv[i]-xfv[i-1])\n",
    "            cs=deltax/(yfv[j]-yfv[j-1])\n",
    "            cn=deltax/(yfv[j+1]-yfv[j]) \n",
    "            mat[convert(i,j),convert(i,j)] = deltax*deltay/deltat + ce + cw + cs + cn\n",
    "            mat[convert(i,j),convert(i,j+1)] = -cn\n",
    "            mat[convert(i,j),convert(i,j-1)] = -cs\n",
    "            mat[convert(i,j),convert(i-1,j)] = -cw\n",
    "            mat[convert(i,j),convert(i+1,j)] = -ce\n",
    "            rhs[convert(i,j)] = deltax*deltay/deltat*phi_old[convert(i,j)] + (1-f)*(-(ce+cw+cs+cn)*phi_old[convert(i,j)]\n",
    "                                                                                    + cn*phi_old[convert(i,j+1)] \n",
    "                                                                                    + cs*phi_old[convert(i,j-1)]\n",
    "                                                                                    + cw*phi_old[convert(i-1,j)]\n",
    "                                                                                    + ce*phi_old[convert(i+1,j)])\n",
    "            \n",
    "    print(\"RHS=\",rhs)\n",
    "           "
   ]
  },
  {
   "cell_type": "markdown",
   "metadata": {},
   "source": [
    "Let's find the analytical solution for the problem:\n",
    "$$\n",
    "\\partial_t \\phi = \\partial_x^2 \\phi, \\text{ with }\\phi(x,t=0)=0, \\phi(x=0) = 1, \\phi(x=l)=0\n",
    "$$\n",
    "\n",
    "We actually know the solution for the following equation:\n",
    "$$\n",
    "\\partial_t w = \\alpha \\partial_x^2 w, \\text{ with } w(x,t=0)=f(x), w(x=0,t)=0, w(x=l,t)=0\n",
    "$$\n",
    "The solution is the following:\n",
    "$$\n",
    "\\begin{aligned}\n",
    "&w(x,t)=\\sum_{k=1}^{\\infty}{\\beta_k \\sin(\\frac{k \\pi}{l} x)\\exp\\bigl(-\\alpha \\frac{\\pi^2 k^2 t}{l^2}\\bigr)}\\\\\n",
    "&\\beta_k = \\frac{2}{l}\\int_0^l{f(x) \\sin(\\frac{k \\pi}{l} x) dx}\n",
    "\\end{aligned}\n",
    "$$\n",
    "Let's separate the solution for $\\phi$ into homogenous and particular parts:\n",
    "$$\n",
    "\\phi = l-x + \\phi_h,\n",
    "$$\n",
    "where $\\phi_h(x=0,t) = 0$, $\\phi_h(x=l,t)=0$, $\\phi_h(x,t=0)=x-l$.\n",
    "\n",
    "Transfering this equation we see that $f(x)=x-l$, $l = 1$, $\\alpha = 1$. The solution for homogenuous part is the following:\n",
    "$$\n",
    "\\begin{aligned}\n",
    "&\\phi_h(x,t)=\\sum_{k=1}^{\\infty}{\\beta_k \\sin(\\frac{k \\pi}{l} x)\\exp\\bigl(-\\alpha \\frac{\\pi^2 k^2}{l^2} t\\bigr)}\\\\\n",
    "&\\beta_k = \\frac{2}{l}\\int_0^l{(x-l) \\sin(\\frac{k \\pi}{l} x) dx}=-\\frac{2 l}{k\\pi}\n",
    "\\end{aligned}\n",
    "$$\n",
    "Then the homogenuous part is the following:\n",
    "$$\n",
    "\\phi_h(x,t) = -\\sum_{k=1}^{\\infty}{\\frac{2 l}{k\\pi}\\sin(\\frac{k \\pi}{l} x)\\exp\\bigl(-\\alpha \\frac{\\pi^2 k^2}{l^2} t\\bigr)}\n",
    "$$\n",
    "Then the analytical solution is the following:\n",
    "$$\n",
    "\\phi(x,t)=l-x-\\sum_{k=1}^{\\infty}{\\frac{2 l}{k\\pi}\\sin(\\frac{k \\pi}{l} x)\\exp\\bigl(-\\alpha \\frac{\\pi^2 k^2}{l^2} t\\bigr)}\n",
    "$$"
   ]
  },
  {
   "cell_type": "code",
   "execution_count": 34,
   "metadata": {},
   "outputs": [],
   "source": [
    "def analytical(time):\n",
    "    numTerms = 400\n",
    "    numX = 101\n",
    "\n",
    "    x=numpy.linspace(0,LX,numX)\n",
    "    sol = LX - x\n",
    "    alpha = 1.0\n",
    "    for term in range(1,numTerms+1):\n",
    "        sol = sol - 2.0*LX/(term*numpy.pi)*numpy.sin(term * numpy.pi*x/LX)*numpy.exp(-alpha*(numpy.pi**2)*(term**2)/(LX**2)*time)\n",
    "    return x,sol\n",
    "\n",
    "def simple(mat2,rhs2,phi2_old):\n",
    "    mat2[0,0]=1\n",
    "    mat2[NX,NX]=1\n",
    "    rhs2[0]=1\n",
    "    rhs2[NX]=0\n",
    "    print(\"Deltax = \", deltax, \" Deltat=\", deltat, \"f=\",f)\n",
    "    for i in range(1,NX):\n",
    "        mat2[i,i] = deltax*deltax/deltat+2*f\n",
    "        mat2[i,i+1]=-f\n",
    "        mat2[i,i-1]=-f\n",
    "        rhs2[i]=deltax*deltax/deltat*phi2_old[i]+(1-f)*(phi2_old[i+1]-2*phi2_old[i]+phi2_old[i-1])\n",
    "    \n",
    "    "
   ]
  },
  {
   "cell_type": "code",
   "execution_count": 35,
   "metadata": {},
   "outputs": [
    {
     "name": "stdout",
     "output_type": "stream",
     "text": [
      "Number of iterations 3\n"
     ]
    }
   ],
   "source": [
    "import time\n",
    "from IPython import display\n",
    "totalTime = 0.003\n",
    "numIterations = int(ceil(totalTime/deltat))\n",
    "print(\"Number of iterations\",numIterations)"
   ]
  },
  {
   "cell_type": "code",
   "execution_count": 36,
   "metadata": {},
   "outputs": [
    {
     "name": "stdout",
     "output_type": "stream",
     "text": [
      "RHS= [1. 0. 0. ... 0. 0. 0.]\n",
      "Deltax =  0.01  Deltat= 0.001 f= 1.0\n",
      "Iteration =  1\n",
      "RHS= [1. 0. 0. ... 0. 0. 0.]\n",
      "Deltax =  0.01  Deltat= 0.001 f= 1.0\n",
      "Iteration =  2\n",
      "RHS= [1. 0. 0. ... 0. 0. 0.]\n",
      "Deltax =  0.01  Deltat= 0.001 f= 1.0\n",
      "Iteration =  3\n"
     ]
    },
    {
     "data": {
      "image/png": "[encoded data removed]",
      "text/plain": [
       "<matplotlib.figure.Figure at 0x7f1e87687240>"
      ]
     },
     "metadata": {},
     "output_type": "display_data"
    },
    {
     "data": {
      "image/png": "[encoded data removed]",
      "text/plain": [
       "<matplotlib.figure.Figure at 0x7f1e87687198>"
      ]
     },
     "metadata": {},
     "output_type": "display_data"
    }
   ],
   "source": [
    "mat2=numpy.zeros((NX+1,NX+1))\n",
    "rhs2=numpy.zeros((NX+1,))\n",
    "xfd=numpy.linspace(0,LX,NX+1)\n",
    "phi2=numpy.zeros((NX+1,))\n",
    "phi2[0]=1\n",
    "\n",
    "phi=numpy.zeros(((NY+2)*(NX+2),))\n",
    "for j in range(NY+2):\n",
    "    phi[convert(0,j)] = 1.0\n",
    "pylab.figure(1)\n",
    "pylab.plot(phi[int(NY/2)*(NX+2):(int(NY/2)+1)*(NX+2)])\n",
    "\n",
    "for iteration in range(1,numIterations+1):\n",
    "    phi_old = phi\n",
    "    phi2_old = phi2\n",
    "    \n",
    "    rhs = numpy.zeros(((NY+2)*(NX+2),))\n",
    "    mat = numpy.zeros(((NX+2)*(NY+2),(NX+2)*(NY+2)))\n",
    "    rhs2=numpy.zeros((NX+1,))\n",
    "    mat2=numpy.zeros((NX+1,NX+1))\n",
    " \n",
    "    updateMatrix(mat,rhs,phi_old)\n",
    "    simple(mat2,rhs2,phi2_old)\n",
    "    phi = numpy.linalg.solve(mat,rhs)\n",
    "    phi2 = numpy.linalg.solve(mat2,rhs2)\n",
    "    \n",
    "    phi_mat=phi.reshape((NY+2,NX+2))\n",
    "    print(\"Iteration = \",iteration)\n",
    "    #display.clear_output(wait=True)\n",
    "    #display.display(pylab.gcf())\n",
    "    \n",
    "    pylab.figure(2)\n",
    "    xan,an = analytical(iteration*deltat)\n",
    "    pylab.plot(xan,an)\n",
    "    pylab.plot(xfv,phi_mat[10,:],\"+\")\n",
    "    #pylab.plot(xfd,phi2,\"d\")\n",
    "    time.sleep(0.1)\n",
    "fig2 = pylab.figure(2)\n",
    "fig2.savefig(\"diffusion_comparison.png\",format=\"PNG\")"
   ]
  },
  {
   "cell_type": "markdown",
   "metadata": {},
   "source": [
    "## Advection-Diffusion Equation"
   ]
  },
  {
   "cell_type": "markdown",
   "metadata": {
    "collapsed": true
   },
   "source": [
    "Now let's turn our attention to the convection-diffusion problem. The case we would like to tackle first is the steady-state development of the thermal layer with the constant velocity $U_0$ in the channel of the height $H$ that we will simulate on our 2D framework. We also assume that the Peclet number is high, i.e. $Pe=\\frac{U_0 H}{\\Gamma}$. In this case we can neglect the diffusion in the $x$ direction. The problem is then stated as:\n",
    "$$\n",
    "U_0 \\frac{d} {d x}\\phi = \\Gamma \\frac{d^2}{d y^2}\\phi \n",
    "$$\n",
    "with the following boundary conditions:\n",
    "$$\n",
    "\\begin{aligned}\n",
    "&\\phi(x,y=0) = \\phi^{*}\\\\\n",
    "&\\frac{d}{d y}\\phi(x,y=H) = 0\\\\\n",
    "&\\phi(x=0,y) = 0\\\\\n",
    "\\end{aligned}\n",
    "$$\n",
    "As always we can search the soluition in terms of homogenous and particular solutions, i.e. $\\phi=\\phi_h + \\phi^{*}$. In this case the boundary conditions would change to the following:\n",
    "$$\n",
    "\\begin{aligned}\n",
    "&\\phi_h(x,y=0) = 0\\\\\n",
    "&\\frac{d}{d y}\\phi_h(x,y=H) = 0\\\\\n",
    "&\\phi_h(x=0,y) = -\\phi^{*}\n",
    "\\end{aligned}\n",
    "$$"
   ]
  },
  {
   "cell_type": "markdown",
   "metadata": {
    "collapsed": true
   },
   "source": [
    "The solution is searched by separation of variables, i.e. $$\\phi_h = \\Theta(x)\\Phi(y)$$. That would lead to the following equation:\n",
    "$$\n",
    "\\frac{\\dot{\\Theta}}{\\Theta} \\frac{U_0}{\\Gamma} = \\frac{\\ddot{\\Phi}}{\\Phi} = -m^2\n",
    "$$"
   ]
  },
  {
   "cell_type": "markdown",
   "metadata": {},
   "source": [
    "For $\\Theta$ function the solution is rerpresented through the eigenvalues as:\n",
    "$$\n",
    "\\Theta = \\exp\\Bigl(-\\frac{\\Gamma}{U_0} m^2 x\\Bigr)\n",
    "$$"
   ]
  },
  {
   "cell_type": "markdown",
   "metadata": {},
   "source": [
    "For $\\Phi$ the solution is represented by the summation of two functions:\n",
    "$$\n",
    "\\Phi(y) = C_1 \\sin(m y) + C_2 \\cos(m y)\n",
    "$$\n",
    "\n",
    "The boundary conditions are then represented as follows:\n",
    "$$\n",
    "\\begin{aligned}\n",
    "&\\Phi(y=0) = C_2 = 0\\\\\n",
    "&\\dot{\\Phi}(y=H) = C_1 \\cos(m H) = 0\n",
    "\\end{aligned}\n",
    "$$\n",
    "Then the eigenvalue $m$ can be found as $m=(\\pi/2+\\pi k)/H$, where $k=0\\ldots\\infty$."
   ]
  },
  {
   "cell_type": "markdown",
   "metadata": {},
   "source": [
    "Substitution of the solution to the last boundary condition yields the following:\n",
    "$$\n",
    "\\sum_{k=0}^{\\infty}{C_k \\sin\\bigl(\\pi (k +\\frac{1}{2}) \\frac{y}{H}\\bigr)} = -\\phi^{*}\n",
    "$$"
   ]
  },
  {
   "cell_type": "markdown",
   "metadata": {},
   "source": [
    "Integratign and multiplying both sides on $\\sin(\\pi k y/H)$ one can obtain the following:\n",
    "$$\n",
    "C_k\\int_{0}^{H}{\\sin\\bigl(\\pi (k+\\frac{1}{2}) \\frac{y}{H} \\bigr)^2 d y} = -\\phi^* \\int_0^{H}{\\sin\\bigl(\\pi (k+\\frac{1}{2}) \\frac{y}{H} \\bigr) dy }\n",
    "$$"
   ]
  },
  {
   "cell_type": "markdown",
   "metadata": {},
   "source": [
    "From here one can obtain the expression for $C_k$:\n",
    "$$\n",
    "C_k = -\\frac{2}{\\pi \\bigl(k+\\frac{1}{2}\\bigr)} \\phi^{*}\n",
    "$$"
   ]
  },
  {
   "cell_type": "markdown",
   "metadata": {},
   "source": [
    "Alltogether the solution is the following:\n",
    "$$\n",
    "\\begin{aligned}\n",
    "&\\phi = \\phi^* - \\phi^* \\sum_{k=0}^{\\infty}{\\frac{2}{\\pi \\bigl(k+\\frac{1}{2}\\bigr)} \\sin \\bigl(\\pi (k+\\frac{1}{2})\\frac{y}{H}\\bigr)\\exp\\bigl(-\\pi^2 (k+\\frac{1}{2})^2 \\frac{\\Gamma}{U_0 H}\\frac{x}{H}\\bigr)}\\\\\n",
    "&\\phi = \\phi^* - \\phi^* \\sum_{k=0}^{\\infty}{\\frac{2}{\\pi \\bigl(k+\\frac{1}{2}\\bigr)} \\sin \\bigl(\\pi (k+\\frac{1}{2})\\frac{y}{H}\\bigr)\\exp\\bigl(-\\pi^2 (k+\\frac{1}{2})^2 \\frac{1}{Pe}\\frac{x}{H}\\bigr)}\\\\\n",
    "\\end{aligned}\n",
    "$$"
   ]
  },
  {
   "cell_type": "code",
   "execution_count": 13,
   "metadata": {},
   "outputs": [],
   "source": [
    "peclet = 200.0\n",
    "xlayer = numpy.linspace(0,10,101)\n",
    "ylayer = numpy.linspace(0,1,21)\n",
    "phistar = 1.0"
   ]
  },
  {
   "cell_type": "code",
   "execution_count": 14,
   "metadata": {},
   "outputs": [],
   "source": [
    "numterms = 100\n",
    "phi = numpy.zeros((len(ylayer),len(xlayer)))\n",
    "for term in range(0,numterms+1):\n",
    "    cols = 2.0/(numpy.pi*(term+0.5))*numpy.sin(numpy.pi*(term+0.5)*ylayer)\n",
    "    for ind,col in enumerate(cols):\n",
    "        phi[ind,:]=phi[ind,:]-phistar*col*numpy.exp(-numpy.pi*numpy.pi*(term+0.5)*(term+0.5)/peclet*xlayer)\n",
    "phi=phi+phistar"
   ]
  },
  {
   "cell_type": "code",
   "execution_count": 15,
   "metadata": {},
   "outputs": [
    {
     "data": {
      "text/plain": [
       "[<matplotlib.lines.Line2D at 0x7f1e94b9aac8>]"
      ]
     },
     "execution_count": 15,
     "metadata": {},
     "output_type": "execute_result"
    },
    {
     "data": {
      "image/png": "[encoded data removed]",
      "text/plain": [
       "<matplotlib.figure.Figure at 0x7f1e9268b6a0>"
      ]
     },
     "metadata": {},
     "output_type": "display_data"
    }
   ],
   "source": [
    "figs,axes=pylab.subplots(1,3,figsize=(15,12))\n",
    "pylab.subplot(131)\n",
    "cont=pylab.contour(phi,levels=[0.2,0.4,0.6,0.8])\n",
    "pylab.colorbar(cont)\n",
    "pylab.subplot(132)\n",
    "pylab.plot(phi[:,0])\n",
    "pylab.subplot(133)\n",
    "pylab.plot(phi[1,:])"
   ]
  },
  {
   "cell_type": "markdown",
   "metadata": {
    "collapsed": true
   },
   "source": [
    "Let's check whether the solution can be verified via error function. There is a solution for the thermal layer development that looks very similar to our solution. The equations look like as follows (see Ozisik, the best book for heat conduction problems):\n",
    "$$\n",
    "\\frac{1}{\\alpha}\\frac{\\partial T}{\\partial t} = \\frac{\\partial^2 T}{\\partial x^2},\n",
    "$$\n",
    "with the following boundary conditions:\n",
    "$$\n",
    "\\begin{aligned}\n",
    "&T(x=0,t)=0\\\\\n",
    "&T(x,t=0)=T_0\n",
    "\\end{aligned}\n",
    "$$\n",
    "The solution here is the following:\n",
    "$$\n",
    "\\frac{T(x,t)}{T_0}=\\mathbf{erf}\\Bigl(\\frac{x}{\\sqrt{4\\alpha t}}\\Bigr)\n",
    "$$"
   ]
  },
  {
   "cell_type": "markdown",
   "metadata": {},
   "source": [
    "If we translate it to our conditions, then $\\alpha = \\Gamma$, $x=U_0 t$, $y=x$. Then the solution is the following:\n",
    "$$\n",
    "\\begin{aligned}\n",
    "&\\phi = \\phi^* - \\phi^* \\mathbf{erf}\\Bigl(\\frac{y/H}{\\sqrt{4 x/H \\frac{\\Gamma}{U_0 H}}}\\Bigr)\\\\\n",
    "&\\phi = \\phi^* - \\phi^* \\mathbf{erf}\\Bigl(\\frac{y/H}{\\sqrt{4 x/H \\frac{1}{Pe}}}\\Bigr)\n",
    "\\end{aligned}\n",
    "$$"
   ]
  },
  {
   "cell_type": "code",
   "execution_count": 16,
   "metadata": {},
   "outputs": [
    {
     "name": "stderr",
     "output_type": "stream",
     "text": [
      "/home/shurik/anaconda3/lib/python3.6/site-packages/ipykernel_launcher.py:5: RuntimeWarning: divide by zero encountered in true_divide\n",
      "  \"\"\"\n",
      "/home/shurik/anaconda3/lib/python3.6/site-packages/ipykernel_launcher.py:5: RuntimeWarning: invalid value encountered in true_divide\n",
      "  \"\"\"\n"
     ]
    }
   ],
   "source": [
    "import scipy.special\n",
    "phi_error = numpy.zeros((len(ylayer),len(xlayer)))\n",
    "cols = numpy.sqrt(4.0*xlayer/peclet)\n",
    "for ind,col in enumerate(cols):\n",
    "    phi_error[:,ind]=phi_error[:,ind]-phistar*scipy.special.erf(ylayer/col)\n",
    "phi_error=phi_error+phistar"
   ]
  },
  {
   "cell_type": "code",
   "execution_count": 17,
   "metadata": {},
   "outputs": [
    {
     "data": {
      "text/plain": [
       "<matplotlib.contour.QuadContourSet at 0x7f1e927ff940>"
      ]
     },
     "execution_count": 17,
     "metadata": {},
     "output_type": "execute_result"
    },
    {
     "data": {
      "image/png": "[encoded data removed]",
      "text/plain": [
       "<matplotlib.figure.Figure at 0x7f1e9261d048>"
      ]
     },
     "metadata": {},
     "output_type": "display_data"
    }
   ],
   "source": [
    "pylab.contour(phi_error,levels=[0.2,0.4,0.6,0.8])\n",
    "pylab.contour(phi,linestyles=[\"dashed\"],levels=[0.2,0.4,0.6,0.8])"
   ]
  },
  {
   "cell_type": "markdown",
   "metadata": {},
   "source": [
    "Now let's try to program it using different techniques:"
   ]
  },
  {
   "cell_type": "code",
   "execution_count": 18,
   "metadata": {},
   "outputs": [
    {
     "name": "stdout",
     "output_type": "stream",
     "text": [
      "DeltaX =  0.1  DeltaY =  0.05\n",
      "X =  [ 0.    0.05  0.15  0.25  0.35  0.45  0.55  0.65  0.75  0.85  0.95  1.05\n",
      "  1.15  1.25  1.35  1.45  1.55  1.65  1.75  1.85  1.95  2.05  2.15  2.25\n",
      "  2.35  2.45  2.55  2.65  2.75  2.85  2.95  3.05  3.15  3.25  3.35  3.45\n",
      "  3.55  3.65  3.75  3.85  3.95  4.05  4.15  4.25  4.35  4.45  4.55  4.65\n",
      "  4.75  4.85  4.95  5.05  5.15  5.25  5.35  5.45  5.55  5.65  5.75  5.85\n",
      "  5.95  6.05  6.15  6.25  6.35  6.45  6.55  6.65  6.75  6.85  6.95  7.05\n",
      "  7.15  7.25  7.35  7.45  7.55  7.65  7.75  7.85  7.95  8.05  8.15  8.25\n",
      "  8.35  8.45  8.55  8.65  8.75  8.85  8.95  9.05  9.15  9.25  9.35  9.45\n",
      "  9.55  9.65  9.75  9.85  9.95 10.  ]\n",
      "Y =  [0.    0.025 0.075 0.125 0.175 0.225 0.275 0.325 0.375 0.425 0.475 0.525\n",
      " 0.575 0.625 0.675 0.725 0.775 0.825 0.875 0.925 0.975 1.   ]\n"
     ]
    }
   ],
   "source": [
    "NX=100\n",
    "NY=20\n",
    "LX = 10.0\n",
    "LY = 1.0\n",
    "deltax = LX/NX\n",
    "deltay = LY/NY\n",
    "\n",
    "xfv_layer = numpy.zeros((NX+2,))\n",
    "xfv_layer[NX+1] = LX\n",
    "xfv_layer[1:NX+1] = numpy.linspace(0.5*deltax,LX-0.5*deltax,NX)\n",
    "yfv_layer = numpy.zeros((NY+2,))\n",
    "yfv_layer[NY+1] = LY\n",
    "yfv_layer[1:NY+1] = numpy.linspace(0.5*deltay,LY-0.5*deltay,NY)\n",
    "\n",
    "print(\"DeltaX = \", deltax, \" DeltaY = \", deltay)\n",
    "print(\"X = \", xfv_layer)\n",
    "print(\"Y = \", yfv_layer)"
   ]
  },
  {
   "cell_type": "markdown",
   "metadata": {},
   "source": [
    "The boundary conditions are the following for discretized version:\n",
    "$$\n",
    "\\begin{aligned}\n",
    "&\\phi(x=0,y) = 0\\\\\n",
    "&\\phi(x,y=0) = 1\\\\\n",
    "&\\partial_x \\phi(x=L,y) = 0\\\\\n",
    "&\\partial_y \\phi(x,y=H) = 0\\\\\n",
    "\\end{aligned}\n",
    "$$\n",
    "In terms of numerical values the following are enforced:\n",
    "$$\n",
    "\\begin{aligned}\n",
    "&\\phi_{0,0..NY+1}=0\\\\\n",
    "&\\phi_{1..NX,0}=1\\\\\n",
    "&\\frac{\\partial \\phi_{1..NX,NY+1}}{\\partial y} = 0\\\\\n",
    "&\\frac{\\partial \\phi_{NX+1,0..NY+1}}{\\partial x} = 0\\\\\n",
    "\\end{aligned}\n",
    "$$"
   ]
  },
  {
   "cell_type": "markdown",
   "metadata": {},
   "source": [
    "The discretization would be the following:\n",
    "$$\n",
    "\\Delta y_P \\Bigl(\\bigl(U_0 \\phi\\bigr)_e-\\bigl(U_0 \\phi\\bigr)_w\\Bigr)=\\Delta x_P \\biggl(\\Gamma_n \\frac{\\phi_N-\\phi_P}{\\Delta y_n}-\\Gamma_s \\frac{\\phi_P - \\phi_S}{\\Delta y_s}\\biggr)\n",
    "$$"
   ]
  },
  {
   "cell_type": "markdown",
   "metadata": {},
   "source": [
    "Let us examine the following discretizations (central and upwind):\n",
    "$$\n",
    "\\textbf{Central:}\n",
    "\\begin{aligned}\n",
    "&\\phi_e = 0.5(\\phi_E+\\phi_P)\\\\\n",
    "&\\phi_w = 0.5(\\phi_P+\\phi_W)\\\\\n",
    "\\end{aligned}\n",
    "\\textbf{Upwind:}\n",
    "\\begin{aligned}\n",
    "&\\phi_e = \\phi_P \\text{ for } U_0 > 0\\\\\n",
    "&\\phi_e = \\phi_E \\text{ for } U_0 < 0\\\\\n",
    "&\\phi_w = \\phi_W \\text{ for } U_0 > 0\\\\\n",
    "&\\phi_w = \\phi_P \\text{ for } U_0 < 0\\\\\n",
    "\\end{aligned}\n",
    "$$"
   ]
  },
  {
   "cell_type": "markdown",
   "metadata": {},
   "source": [
    "# Central scheme"
   ]
  },
  {
   "cell_type": "markdown",
   "metadata": {},
   "source": [
    "The central scheme becomes:\n",
    "$$\n",
    "\\begin{aligned}\n",
    "&\\Delta y_P U_0 \\frac{\\phi_E-\\phi_W}{2} = \\Delta x_P \\Gamma\\Bigl(\\frac{\\phi_N-\\phi_P}{\\Delta y_N} - \\frac{\\phi_P - \\phi_S}{\\Delta y_S}\\Bigr)\\\\\n",
    "&\\Delta y_P/H \\frac{\\phi_E-\\phi_W}{2} = \\Delta x_P/H \\frac{\\Gamma}{U_0 H}\\Bigl(\\frac{\\phi_N-\\phi_P}{\\Delta y_N /H} - \\frac{\\phi_P - \\phi_S}{\\Delta y_S /H}\\Bigr)\n",
    "\\end{aligned}\n",
    "$$"
   ]
  },
  {
   "cell_type": "markdown",
   "metadata": {},
   "source": [
    "Collecting coefficients with $\\phi_P$ and others one can get (assuming that all $\\Delta x$ or $\\Delta y$ are non-dimensional:\n",
    "$$\n",
    "\\begin{aligned}\n",
    "-\\phi_P\\frac{1}{Pe}\\Bigl(\\frac{\\Delta x_P}{\\Delta y_N} + \\frac{\\Delta x_P}{\\Delta y_S}\\Bigr) +\\frac{1}{Pe}\\frac{\\Delta x_P}{\\Delta y_N}\\phi_N + \\frac{1}{Pe}\\frac{\\Delta x_P}{\\Delta y_S}\\phi_S - 0.5 \\Delta y_P \\phi_E - 0.5 \\Delta y_P \\phi_W = 0 \n",
    "\\end{aligned}\n",
    "$$"
   ]
  },
  {
   "cell_type": "markdown",
   "metadata": {},
   "source": [
    "The numerical scheme (centra) is the following:\n",
    "$$\n",
    "\\begin{aligned}\n",
    "&-\\phi_{i,j}\\frac{1}{Pe}\\Bigl(\\frac{\\Delta x}{y_{i,j+1}-y_{i,j}} + \\frac{\\Delta x}{y_{i,j}-y_{i,j-1}}\\Bigr) +\\frac{1}{Pe}\\frac{\\Delta x}{y_{i,j+1}-y_{i,j}}\\phi_{i,j+1} + \\frac{1}{Pe}\\frac{\\Delta x}{y_{i,j}-y_{i,j-1}}\\phi_{i,j-1} - 0.5 \\Delta y \\phi_{i+1,j} + 0.5 \\Delta y \\phi_{i-1,j} = 0 \\text{ for }i=1..NX\\text{ and }j=1..NY\\\\\n",
    "&\\phi_{0,j} = 0\\text{ for }j=0..NY+1\\\\\n",
    "&\\phi_{NX+1,j} = \\phi_{NX,j}\\text{ for }j=0..NY+1\\\\\n",
    "&\\phi_{i,0}=1\\text{ for }i=1..NX\\\\\n",
    "&\\phi_{i,NY+1}=\\phi_{i,NY}\\text{ for }i=1..NX\\\\\n",
    "\\end{aligned}$$"
   ]
  },
  {
   "cell_type": "code",
   "execution_count": 19,
   "metadata": {},
   "outputs": [],
   "source": [
    "def convert(indX,indY):\n",
    "    return (indY*(NX+2)+indX)\n",
    "\n",
    "rhs_layer = numpy.zeros(((NY+2)*(NX+2),))\n",
    "mat_layer = numpy.zeros(((NX+2)*(NY+2),(NX+2)*(NY+2)))\n",
    "\n",
    "for j in range(NY+2):\n",
    "    rhs_layer[convert(0,j)] = 0\n",
    "    mat_layer[convert(0,j),convert(0,j)] = 1\n",
    "    mat_layer[convert(NX+1,j),convert(NX+1,j)] = 1\n",
    "    mat_layer[convert(NX+1,j),convert(NX,j)] = -1\n",
    "    \n",
    "for i in range(1,NX+1):\n",
    "    rhs_layer[convert(i,0)] = 1\n",
    "    mat_layer[convert(i,0),convert(i,0)]=1\n",
    "    mat_layer[convert(i,NY+1),convert(i,NY+1)]=1\n",
    "    mat_layer[convert(i,NY+1),convert(i,NY)]=-1\n",
    "    \n",
    "for i in range(1,NX+1):   \n",
    "    for j in range(1,NY+1):\n",
    "        mat_layer[convert(i,j),convert(i,j)] = - 1.0/peclet*(deltax/(yfv_layer[j+1]-yfv_layer[j]) + deltax/(yfv_layer[j]-yfv_layer[j-1]))\n",
    "        mat_layer[convert(i,j),convert(i,j+1)] = 1.0/peclet*deltax/(yfv_layer[j+1]-yfv_layer[j])\n",
    "        mat_layer[convert(i,j),convert(i,j-1)] = 1.0/peclet*deltax/(yfv_layer[j]-yfv_layer[j-1])\n",
    "        mat_layer[convert(i,j),convert(i-1,j)] = 0.5*deltay\n",
    "        mat_layer[convert(i,j),convert(i+1,j)] = -0.5*deltay"
   ]
  },
  {
   "cell_type": "code",
   "execution_count": 23,
   "metadata": {},
   "outputs": [
    {
     "data": {
      "image/png": "[encoded data removed]",
      "text/plain": [
       "<matplotlib.figure.Figure at 0x7f1e900e9a20>"
      ]
     },
     "metadata": {},
     "output_type": "display_data"
    }
   ],
   "source": [
    "phi_layer = numpy.linalg.solve(mat_layer,rhs_layer)\n",
    "phi_mat_layer=phi_layer.reshape((NY+2,NX+2))\n",
    "fig1 = pylab.figure(1)\n",
    "pylab.contour(phi_mat_layer,levels=[0.2,0.4,0.6,0.8],extent=(0,10,0,1))\n",
    "pylab.contour(phi_error,levels=[0.2,0.4,0.6,0.8],extent=(0,10,0,1),linestyles=[\"dotted\"])\n",
    "fig1.savefig(\"thermal_layer_comparison.png\",format=\"PNG\")"
   ]
  },
  {
   "cell_type": "markdown",
   "metadata": {},
   "source": [
    "# Upwind scheme"
   ]
  },
  {
   "cell_type": "markdown",
   "metadata": {},
   "source": [
    "The scheme would be slightly different:\n",
    "$$\n",
    "\\begin{aligned}\n",
    "&\\Delta y_P U_0 (\\phi_P-\\phi_W) = \\Delta x_P \\Gamma\\Bigl(\\frac{\\phi_N-\\phi_P}{\\Delta y_N} - \\frac{\\phi_P - \\phi_S}{\\Delta y_S}\\Bigr)\\\\\n",
    "&\\Delta y_P/H (\\phi_P-\\phi_W) = \\Delta x_P/H \\frac{\\Gamma}{U_0 H}\\Bigl(\\frac{\\phi_N-\\phi_P}{\\Delta y_N /H} - \\frac{\\phi_P - \\phi_S}{\\Delta y_S /H}\\Bigr)\n",
    "\\end{aligned}\n",
    "$$"
   ]
  },
  {
   "cell_type": "markdown",
   "metadata": {},
   "source": [
    "Then the discretization would be changes as follows:\n",
    "$$\n",
    "\\begin{aligned}\n",
    "-\\phi_P\\biggl(\\frac{1}{Pe}\\Bigl(\\frac{\\Delta x_P}{\\Delta y_N} + \\frac{\\Delta x_P}{\\Delta y_S}\\Bigr)+\\Delta y_P\\biggr) +\\frac{1}{Pe}\\frac{\\Delta x_P}{\\Delta y_N}\\phi_N + \\frac{1}{Pe}\\frac{\\Delta x_P}{\\Delta y_S}\\phi_S + \\Delta y_P \\phi_W = 0 \n",
    "\\end{aligned}\n",
    "$$"
   ]
  },
  {
   "cell_type": "markdown",
   "metadata": {},
   "source": [
    "Let's redefine the matrix only:"
   ]
  },
  {
   "cell_type": "code",
   "execution_count": 21,
   "metadata": {},
   "outputs": [],
   "source": [
    "rhs_layer = numpy.zeros(((NY+2)*(NX+2),))\n",
    "mat_layer = numpy.zeros(((NX+2)*(NY+2),(NX+2)*(NY+2)))\n",
    "\n",
    "for j in range(NY+2):\n",
    "    rhs_layer[convert(0,j)] = 0\n",
    "    mat_layer[convert(0,j),convert(0,j)] = 1\n",
    "    mat_layer[convert(NX+1,j),convert(NX+1,j)] = 1\n",
    "    mat_layer[convert(NX+1,j),convert(NX,j)] = -1\n",
    "    \n",
    "for i in range(1,NX+1):\n",
    "    rhs_layer[convert(i,0)] = 1\n",
    "    mat_layer[convert(i,0),convert(i,0)]=1\n",
    "    mat_layer[convert(i,NY+1),convert(i,NY+1)]=1\n",
    "    mat_layer[convert(i,NY+1),convert(i,NY)]=-1\n",
    "\n",
    "for i in range(1,NX+1):   \n",
    "    for j in range(1,NY+1):\n",
    "        mat_layer[convert(i,j),convert(i,j)] = - 1.0/peclet*(deltax/(yfv_layer[j+1]-yfv_layer[j]) + deltax/(yfv_layer[j]-yfv_layer[j-1]))-deltay\n",
    "        mat_layer[convert(i,j),convert(i,j+1)] = 1.0/peclet*deltax/(yfv_layer[j+1]-yfv_layer[j])\n",
    "        mat_layer[convert(i,j),convert(i,j-1)] = 1.0/peclet*deltax/(yfv_layer[j]-yfv_layer[j-1])\n",
    "        mat_layer[convert(i,j),convert(i-1,j)] = deltay"
   ]
  },
  {
   "cell_type": "code",
   "execution_count": 22,
   "metadata": {},
   "outputs": [
    {
     "data": {
      "text/plain": [
       "<matplotlib.contour.QuadContourSet at 0x7f1e900e0080>"
      ]
     },
     "execution_count": 22,
     "metadata": {},
     "output_type": "execute_result"
    },
    {
     "data": {
      "image/png": "[encoded data removed]",
      "text/plain": [
       "<matplotlib.figure.Figure at 0x7f1e9285e7b8>"
      ]
     },
     "metadata": {},
     "output_type": "display_data"
    }
   ],
   "source": [
    "phi_layer = numpy.linalg.solve(mat_layer,rhs_layer)\n",
    "phi_mat_layer=phi_layer.reshape((NY+2,NX+2))\n",
    "pylab.contour(phi_mat_layer,levels=[0.2,0.4,0.6,0.8],extent=(0,10,0,1))\n",
    "pylab.contour(phi_error,levels=[0.2,0.4,0.6,0.8],linestyles=[\"dotted\"],extent=(0,10,0,1))"
   ]
  }
 ],
 "metadata": {
  "kernelspec": {
   "display_name": "Python 3",
   "language": "python",
   "name": "python3"
  },
  "language_info": {
   "codemirror_mode": {
    "name": "ipython",
    "version": 3
   },
   "file_extension": ".py",
   "mimetype": "text/x-python",
   "name": "python",
   "nbconvert_exporter": "python",
   "pygments_lexer": "ipython3",
   "version": "3.6.4"
  }
 },
 "nbformat": 4,
 "nbformat_minor": 2
}
